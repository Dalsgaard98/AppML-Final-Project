{
 "cells": [
  {
   "cell_type": "code",
   "execution_count": 1,
   "metadata": {
    "collapsed": true
   },
   "outputs": [],
   "source": [
    "import pandas as pd"
   ]
  },
  {
   "cell_type": "code",
   "execution_count": 7,
   "outputs": [],
   "source": [
    "df = pd.read_csv(\"clean split data/stations_clean_9.csv\")"
   ],
   "metadata": {
    "collapsed": false,
    "pycharm": {
     "name": "#%%\n"
    }
   }
  },
  {
   "cell_type": "code",
   "execution_count": 14,
   "outputs": [],
   "source": [
    "df.drop(\"Unnamed: 0\",axis=1,inplace=True)"
   ],
   "metadata": {
    "collapsed": false,
    "pycharm": {
     "name": "#%%\n"
    }
   }
  },
  {
   "cell_type": "code",
   "execution_count": 15,
   "outputs": [
    {
     "data": {
      "text/plain": "                 coordinates                         to          parameterId  \\\n0         [10.5693, 55.0144]  2021-04-17T02:00:00+00:00  max_wind_speed_3sec   \n1         [10.5693, 55.0144]  2021-04-17T02:00:00+00:00        mean_pressure   \n2         [10.5693, 55.0144]  2021-04-17T02:00:00+00:00    mean_relative_hum   \n3         [10.5693, 55.0144]  2021-04-17T02:00:00+00:00            mean_temp   \n4         [10.5693, 55.0144]  2021-04-17T02:00:00+00:00        mean_wind_dir   \n...                      ...                        ...                  ...   \n9036854  [-73.1208, 76.7333]  2023-01-01T06:00:00+00:00             min_temp   \n9036855  [-73.1208, 76.7333]  2023-01-01T06:00:00+00:00         no_cold_days   \n9036856  [-73.1208, 76.7333]  2023-01-01T06:00:00+00:00  no_days_w_hurricane   \n9036857  [-73.1208, 76.7333]  2023-01-01T06:00:00+00:00      no_days_w_storm   \n9036858  [-73.1208, 76.7333]  2023-01-01T06:00:00+00:00        no_frost_days   \n\n         stationId timeResolution   value  \n0             6124           hour     4.1  \n1             6124           hour  1026.0  \n2             6124           hour    77.5  \n3             6124           hour     5.3  \n4             6124           hour   350.0  \n...            ...            ...     ...  \n9036854       4203           year   -26.3  \n9036855       4203           year   116.0  \n9036856       4203           year     0.0  \n9036857       4203           year     0.0  \n9036858       4203           year   132.0  \n\n[9036859 rows x 6 columns]",
      "text/html": "<div>\n<style scoped>\n    .dataframe tbody tr th:only-of-type {\n        vertical-align: middle;\n    }\n\n    .dataframe tbody tr th {\n        vertical-align: top;\n    }\n\n    .dataframe thead th {\n        text-align: right;\n    }\n</style>\n<table border=\"1\" class=\"dataframe\">\n  <thead>\n    <tr style=\"text-align: right;\">\n      <th></th>\n      <th>coordinates</th>\n      <th>to</th>\n      <th>parameterId</th>\n      <th>stationId</th>\n      <th>timeResolution</th>\n      <th>value</th>\n    </tr>\n  </thead>\n  <tbody>\n    <tr>\n      <th>0</th>\n      <td>[10.5693, 55.0144]</td>\n      <td>2021-04-17T02:00:00+00:00</td>\n      <td>max_wind_speed_3sec</td>\n      <td>6124</td>\n      <td>hour</td>\n      <td>4.1</td>\n    </tr>\n    <tr>\n      <th>1</th>\n      <td>[10.5693, 55.0144]</td>\n      <td>2021-04-17T02:00:00+00:00</td>\n      <td>mean_pressure</td>\n      <td>6124</td>\n      <td>hour</td>\n      <td>1026.0</td>\n    </tr>\n    <tr>\n      <th>2</th>\n      <td>[10.5693, 55.0144]</td>\n      <td>2021-04-17T02:00:00+00:00</td>\n      <td>mean_relative_hum</td>\n      <td>6124</td>\n      <td>hour</td>\n      <td>77.5</td>\n    </tr>\n    <tr>\n      <th>3</th>\n      <td>[10.5693, 55.0144]</td>\n      <td>2021-04-17T02:00:00+00:00</td>\n      <td>mean_temp</td>\n      <td>6124</td>\n      <td>hour</td>\n      <td>5.3</td>\n    </tr>\n    <tr>\n      <th>4</th>\n      <td>[10.5693, 55.0144]</td>\n      <td>2021-04-17T02:00:00+00:00</td>\n      <td>mean_wind_dir</td>\n      <td>6124</td>\n      <td>hour</td>\n      <td>350.0</td>\n    </tr>\n    <tr>\n      <th>...</th>\n      <td>...</td>\n      <td>...</td>\n      <td>...</td>\n      <td>...</td>\n      <td>...</td>\n      <td>...</td>\n    </tr>\n    <tr>\n      <th>9036854</th>\n      <td>[-73.1208, 76.7333]</td>\n      <td>2023-01-01T06:00:00+00:00</td>\n      <td>min_temp</td>\n      <td>4203</td>\n      <td>year</td>\n      <td>-26.3</td>\n    </tr>\n    <tr>\n      <th>9036855</th>\n      <td>[-73.1208, 76.7333]</td>\n      <td>2023-01-01T06:00:00+00:00</td>\n      <td>no_cold_days</td>\n      <td>4203</td>\n      <td>year</td>\n      <td>116.0</td>\n    </tr>\n    <tr>\n      <th>9036856</th>\n      <td>[-73.1208, 76.7333]</td>\n      <td>2023-01-01T06:00:00+00:00</td>\n      <td>no_days_w_hurricane</td>\n      <td>4203</td>\n      <td>year</td>\n      <td>0.0</td>\n    </tr>\n    <tr>\n      <th>9036857</th>\n      <td>[-73.1208, 76.7333]</td>\n      <td>2023-01-01T06:00:00+00:00</td>\n      <td>no_days_w_storm</td>\n      <td>4203</td>\n      <td>year</td>\n      <td>0.0</td>\n    </tr>\n    <tr>\n      <th>9036858</th>\n      <td>[-73.1208, 76.7333]</td>\n      <td>2023-01-01T06:00:00+00:00</td>\n      <td>no_frost_days</td>\n      <td>4203</td>\n      <td>year</td>\n      <td>132.0</td>\n    </tr>\n  </tbody>\n</table>\n<p>9036859 rows × 6 columns</p>\n</div>"
     },
     "execution_count": 15,
     "metadata": {},
     "output_type": "execute_result"
    }
   ],
   "source": [
    "df"
   ],
   "metadata": {
    "collapsed": false,
    "pycharm": {
     "name": "#%%\n"
    }
   }
  },
  {
   "cell_type": "code",
   "execution_count": 16,
   "outputs": [],
   "source": [
    "df.sort_values(by=[\"to\",\"coordinates\",\"parameterId\"],inplace=True)"
   ],
   "metadata": {
    "collapsed": false,
    "pycharm": {
     "name": "#%%\n"
    }
   }
  },
  {
   "cell_type": "code",
   "execution_count": 17,
   "outputs": [],
   "source": [
    "df.reset_index(drop=True,inplace=True)"
   ],
   "metadata": {
    "collapsed": false,
    "pycharm": {
     "name": "#%%\n"
    }
   }
  },
  {
   "cell_type": "code",
   "execution_count": 18,
   "outputs": [
    {
     "data": {
      "text/plain": "           coordinates                         to          parameterId  \\\n0   [10.5693, 55.0144]  2021-04-17T02:00:00+00:00  max_wind_speed_3sec   \n1   [10.5693, 55.0144]  2021-04-17T02:00:00+00:00        mean_pressure   \n2   [10.5693, 55.0144]  2021-04-17T02:00:00+00:00    mean_relative_hum   \n3   [10.5693, 55.0144]  2021-04-17T02:00:00+00:00            mean_temp   \n4   [10.5693, 55.0144]  2021-04-17T02:00:00+00:00        mean_wind_dir   \n..                 ...                        ...                  ...   \n95  [11.3285, 55.2465]  2021-04-17T02:00:00+00:00       mean_radiation   \n96  [11.3285, 55.2465]  2021-04-17T02:00:00+00:00    mean_relative_hum   \n97  [11.3285, 55.2465]  2021-04-17T02:00:00+00:00            mean_temp   \n98  [11.3285, 55.2465]  2021-04-17T02:00:00+00:00        mean_wind_dir   \n99  [11.3285, 55.2465]  2021-04-17T02:00:00+00:00      mean_wind_speed   \n\n    stationId timeResolution   value  \n0        6124           hour     4.1  \n1        6124           hour  1026.0  \n2        6124           hour    77.5  \n3        6124           hour     5.3  \n4        6124           hour   350.0  \n..        ...            ...     ...  \n95       6136           hour     2.0  \n96       6136           hour    76.0  \n97       6136           hour     5.6  \n98       6136           hour   343.0  \n99       6136           hour     2.3  \n\n[100 rows x 6 columns]",
      "text/html": "<div>\n<style scoped>\n    .dataframe tbody tr th:only-of-type {\n        vertical-align: middle;\n    }\n\n    .dataframe tbody tr th {\n        vertical-align: top;\n    }\n\n    .dataframe thead th {\n        text-align: right;\n    }\n</style>\n<table border=\"1\" class=\"dataframe\">\n  <thead>\n    <tr style=\"text-align: right;\">\n      <th></th>\n      <th>coordinates</th>\n      <th>to</th>\n      <th>parameterId</th>\n      <th>stationId</th>\n      <th>timeResolution</th>\n      <th>value</th>\n    </tr>\n  </thead>\n  <tbody>\n    <tr>\n      <th>0</th>\n      <td>[10.5693, 55.0144]</td>\n      <td>2021-04-17T02:00:00+00:00</td>\n      <td>max_wind_speed_3sec</td>\n      <td>6124</td>\n      <td>hour</td>\n      <td>4.1</td>\n    </tr>\n    <tr>\n      <th>1</th>\n      <td>[10.5693, 55.0144]</td>\n      <td>2021-04-17T02:00:00+00:00</td>\n      <td>mean_pressure</td>\n      <td>6124</td>\n      <td>hour</td>\n      <td>1026.0</td>\n    </tr>\n    <tr>\n      <th>2</th>\n      <td>[10.5693, 55.0144]</td>\n      <td>2021-04-17T02:00:00+00:00</td>\n      <td>mean_relative_hum</td>\n      <td>6124</td>\n      <td>hour</td>\n      <td>77.5</td>\n    </tr>\n    <tr>\n      <th>3</th>\n      <td>[10.5693, 55.0144]</td>\n      <td>2021-04-17T02:00:00+00:00</td>\n      <td>mean_temp</td>\n      <td>6124</td>\n      <td>hour</td>\n      <td>5.3</td>\n    </tr>\n    <tr>\n      <th>4</th>\n      <td>[10.5693, 55.0144]</td>\n      <td>2021-04-17T02:00:00+00:00</td>\n      <td>mean_wind_dir</td>\n      <td>6124</td>\n      <td>hour</td>\n      <td>350.0</td>\n    </tr>\n    <tr>\n      <th>...</th>\n      <td>...</td>\n      <td>...</td>\n      <td>...</td>\n      <td>...</td>\n      <td>...</td>\n      <td>...</td>\n    </tr>\n    <tr>\n      <th>95</th>\n      <td>[11.3285, 55.2465]</td>\n      <td>2021-04-17T02:00:00+00:00</td>\n      <td>mean_radiation</td>\n      <td>6136</td>\n      <td>hour</td>\n      <td>2.0</td>\n    </tr>\n    <tr>\n      <th>96</th>\n      <td>[11.3285, 55.2465]</td>\n      <td>2021-04-17T02:00:00+00:00</td>\n      <td>mean_relative_hum</td>\n      <td>6136</td>\n      <td>hour</td>\n      <td>76.0</td>\n    </tr>\n    <tr>\n      <th>97</th>\n      <td>[11.3285, 55.2465]</td>\n      <td>2021-04-17T02:00:00+00:00</td>\n      <td>mean_temp</td>\n      <td>6136</td>\n      <td>hour</td>\n      <td>5.6</td>\n    </tr>\n    <tr>\n      <th>98</th>\n      <td>[11.3285, 55.2465]</td>\n      <td>2021-04-17T02:00:00+00:00</td>\n      <td>mean_wind_dir</td>\n      <td>6136</td>\n      <td>hour</td>\n      <td>343.0</td>\n    </tr>\n    <tr>\n      <th>99</th>\n      <td>[11.3285, 55.2465]</td>\n      <td>2021-04-17T02:00:00+00:00</td>\n      <td>mean_wind_speed</td>\n      <td>6136</td>\n      <td>hour</td>\n      <td>2.3</td>\n    </tr>\n  </tbody>\n</table>\n<p>100 rows × 6 columns</p>\n</div>"
     },
     "execution_count": 18,
     "metadata": {},
     "output_type": "execute_result"
    }
   ],
   "source": [
    "df.head(100)"
   ],
   "metadata": {
    "collapsed": false,
    "pycharm": {
     "name": "#%%\n"
    }
   }
  },
  {
   "cell_type": "code",
   "execution_count": 19,
   "outputs": [
    {
     "data": {
      "text/plain": "                 coordinates                         to  \\\n9036809     [-54.6, 70.6561]  2023-01-01T06:00:00+00:00   \n9036810     [-54.6, 70.6561]  2023-01-01T06:00:00+00:00   \n9036811     [-54.6, 70.6561]  2023-01-01T06:00:00+00:00   \n9036812     [-54.6, 70.6561]  2023-01-01T06:00:00+00:00   \n9036813  [-57.7231, 74.0606]  2023-01-01T06:00:00+00:00   \n9036814  [-57.7231, 74.0606]  2023-01-01T06:00:00+00:00   \n9036815  [-57.7231, 74.0606]  2023-01-01T06:00:00+00:00   \n9036816  [-57.7231, 74.0606]  2023-01-01T06:00:00+00:00   \n9036817  [-57.7231, 74.0606]  2023-01-01T06:00:00+00:00   \n9036818  [-57.7231, 74.0606]  2023-01-01T06:00:00+00:00   \n9036819  [-57.7231, 74.0606]  2023-01-01T06:00:00+00:00   \n9036820  [-57.7231, 74.0606]  2023-01-01T06:00:00+00:00   \n9036821  [-57.7231, 74.0606]  2023-01-01T06:00:00+00:00   \n9036822  [-57.7231, 74.0606]  2023-01-01T06:00:00+00:00   \n9036823  [-57.7231, 74.0606]  2023-01-01T06:00:00+00:00   \n9036824  [-57.7231, 74.0606]  2023-01-01T06:00:00+00:00   \n9036825  [-57.7231, 74.0606]  2023-01-01T06:00:00+00:00   \n9036826  [-57.7231, 74.0606]  2023-01-01T06:00:00+00:00   \n9036827  [-57.7231, 74.0606]  2023-01-01T06:00:00+00:00   \n9036828  [-57.7231, 74.0606]  2023-01-01T06:00:00+00:00   \n9036829  [-57.7231, 74.0606]  2023-01-01T06:00:00+00:00   \n9036830  [-57.7231, 74.0606]  2023-01-01T06:00:00+00:00   \n9036831  [-57.7231, 74.0606]  2023-01-01T06:00:00+00:00   \n9036832  [-57.7231, 74.0606]  2023-01-01T06:00:00+00:00   \n9036833  [-57.7231, 74.0606]  2023-01-01T06:00:00+00:00   \n9036834  [-57.7231, 74.0606]  2023-01-01T06:00:00+00:00   \n9036835  [-57.7231, 74.0606]  2023-01-01T06:00:00+00:00   \n9036836  [-57.7231, 74.0606]  2023-01-01T06:00:00+00:00   \n9036837  [-57.7231, 74.0606]  2023-01-01T06:00:00+00:00   \n9036838  [-73.1208, 76.7333]  2023-01-01T06:00:00+00:00   \n9036839  [-73.1208, 76.7333]  2023-01-01T06:00:00+00:00   \n9036840  [-73.1208, 76.7333]  2023-01-01T06:00:00+00:00   \n9036841  [-73.1208, 76.7333]  2023-01-01T06:00:00+00:00   \n9036842  [-73.1208, 76.7333]  2023-01-01T06:00:00+00:00   \n9036843  [-73.1208, 76.7333]  2023-01-01T06:00:00+00:00   \n9036844  [-73.1208, 76.7333]  2023-01-01T06:00:00+00:00   \n9036845  [-73.1208, 76.7333]  2023-01-01T06:00:00+00:00   \n9036846  [-73.1208, 76.7333]  2023-01-01T06:00:00+00:00   \n9036847  [-73.1208, 76.7333]  2023-01-01T06:00:00+00:00   \n9036848  [-73.1208, 76.7333]  2023-01-01T06:00:00+00:00   \n9036849  [-73.1208, 76.7333]  2023-01-01T06:00:00+00:00   \n9036850  [-73.1208, 76.7333]  2023-01-01T06:00:00+00:00   \n9036851  [-73.1208, 76.7333]  2023-01-01T06:00:00+00:00   \n9036852  [-73.1208, 76.7333]  2023-01-01T06:00:00+00:00   \n9036853  [-73.1208, 76.7333]  2023-01-01T06:00:00+00:00   \n9036854  [-73.1208, 76.7333]  2023-01-01T06:00:00+00:00   \n9036855  [-73.1208, 76.7333]  2023-01-01T06:00:00+00:00   \n9036856  [-73.1208, 76.7333]  2023-01-01T06:00:00+00:00   \n9036857  [-73.1208, 76.7333]  2023-01-01T06:00:00+00:00   \n9036858  [-73.1208, 76.7333]  2023-01-01T06:00:00+00:00   \n\n                        parameterId  stationId timeResolution   value  \n9036809                 no_ice_days       4214           year   113.0  \n9036810              no_stormy_days       4214           year     2.0  \n9036811              no_summer_days       4214           year     0.0  \n9036812               no_windy_days       4214           year    50.0  \n9036813  acc_heating_degree_days_19       4208           year  4601.9  \n9036814                max_pressure       4208           year  1039.1  \n9036815            max_relative_hum       4208           year    97.0  \n9036816             max_temp_w_date       4208           year     0.0  \n9036817        max_wind_speed_10min       4208           year    23.2  \n9036818         max_wind_speed_3sec       4208           year    30.4  \n9036819         mean_daily_max_temp       4208           year   -13.3  \n9036820         mean_daily_min_temp       4208           year   -18.6  \n9036821               mean_pressure       4208           year  1006.9  \n9036822           mean_relative_hum       4208           year    78.7  \n9036823                   mean_temp       4208           year   -15.9  \n9036824        mean_vapour_pressure       4208           year     1.3  \n9036825               mean_wind_dir       4208           year    24.0  \n9036826             mean_wind_speed       4208           year     5.9  \n9036827                min_pressure       4208           year   949.9  \n9036828            min_relative_hum       4208           year    37.0  \n9036829                    min_temp       4208           year   -27.6  \n9036830                no_cold_days       4208           year   129.0  \n9036831         no_days_w_hurricane       4208           year     0.0  \n9036832             no_days_w_storm       4208           year     0.0  \n9036833               no_frost_days       4208           year   132.0  \n9036834                 no_ice_days       4208           year   131.0  \n9036835              no_stormy_days       4208           year     2.0  \n9036836              no_summer_days       4208           year     0.0  \n9036837               no_windy_days       4208           year    39.0  \n9036838  acc_heating_degree_days_19       4203           year  4430.6  \n9036839                max_pressure       4203           year  1041.2  \n9036840            max_relative_hum       4203           year    93.0  \n9036841             max_temp_w_date       4203           year    -0.2  \n9036842        max_wind_speed_10min       4203           year    20.6  \n9036843         max_wind_speed_3sec       4203           year    27.8  \n9036844         mean_daily_max_temp       4203           year   -12.8  \n9036845         mean_daily_min_temp       4203           year   -16.4  \n9036846               mean_pressure       4203           year  1008.2  \n9036847           mean_relative_hum       4203           year    75.4  \n9036848                   mean_temp       4203           year   -14.6  \n9036849        mean_vapour_pressure       4203           year     1.4  \n9036850               mean_wind_dir       4203           year   289.0  \n9036851             mean_wind_speed       4203           year     5.8  \n9036852                min_pressure       4203           year   956.4  \n9036853            min_relative_hum       4203           year    44.0  \n9036854                    min_temp       4203           year   -26.3  \n9036855                no_cold_days       4203           year   116.0  \n9036856         no_days_w_hurricane       4203           year     0.0  \n9036857             no_days_w_storm       4203           year     0.0  \n9036858               no_frost_days       4203           year   132.0  ",
      "text/html": "<div>\n<style scoped>\n    .dataframe tbody tr th:only-of-type {\n        vertical-align: middle;\n    }\n\n    .dataframe tbody tr th {\n        vertical-align: top;\n    }\n\n    .dataframe thead th {\n        text-align: right;\n    }\n</style>\n<table border=\"1\" class=\"dataframe\">\n  <thead>\n    <tr style=\"text-align: right;\">\n      <th></th>\n      <th>coordinates</th>\n      <th>to</th>\n      <th>parameterId</th>\n      <th>stationId</th>\n      <th>timeResolution</th>\n      <th>value</th>\n    </tr>\n  </thead>\n  <tbody>\n    <tr>\n      <th>9036809</th>\n      <td>[-54.6, 70.6561]</td>\n      <td>2023-01-01T06:00:00+00:00</td>\n      <td>no_ice_days</td>\n      <td>4214</td>\n      <td>year</td>\n      <td>113.0</td>\n    </tr>\n    <tr>\n      <th>9036810</th>\n      <td>[-54.6, 70.6561]</td>\n      <td>2023-01-01T06:00:00+00:00</td>\n      <td>no_stormy_days</td>\n      <td>4214</td>\n      <td>year</td>\n      <td>2.0</td>\n    </tr>\n    <tr>\n      <th>9036811</th>\n      <td>[-54.6, 70.6561]</td>\n      <td>2023-01-01T06:00:00+00:00</td>\n      <td>no_summer_days</td>\n      <td>4214</td>\n      <td>year</td>\n      <td>0.0</td>\n    </tr>\n    <tr>\n      <th>9036812</th>\n      <td>[-54.6, 70.6561]</td>\n      <td>2023-01-01T06:00:00+00:00</td>\n      <td>no_windy_days</td>\n      <td>4214</td>\n      <td>year</td>\n      <td>50.0</td>\n    </tr>\n    <tr>\n      <th>9036813</th>\n      <td>[-57.7231, 74.0606]</td>\n      <td>2023-01-01T06:00:00+00:00</td>\n      <td>acc_heating_degree_days_19</td>\n      <td>4208</td>\n      <td>year</td>\n      <td>4601.9</td>\n    </tr>\n    <tr>\n      <th>9036814</th>\n      <td>[-57.7231, 74.0606]</td>\n      <td>2023-01-01T06:00:00+00:00</td>\n      <td>max_pressure</td>\n      <td>4208</td>\n      <td>year</td>\n      <td>1039.1</td>\n    </tr>\n    <tr>\n      <th>9036815</th>\n      <td>[-57.7231, 74.0606]</td>\n      <td>2023-01-01T06:00:00+00:00</td>\n      <td>max_relative_hum</td>\n      <td>4208</td>\n      <td>year</td>\n      <td>97.0</td>\n    </tr>\n    <tr>\n      <th>9036816</th>\n      <td>[-57.7231, 74.0606]</td>\n      <td>2023-01-01T06:00:00+00:00</td>\n      <td>max_temp_w_date</td>\n      <td>4208</td>\n      <td>year</td>\n      <td>0.0</td>\n    </tr>\n    <tr>\n      <th>9036817</th>\n      <td>[-57.7231, 74.0606]</td>\n      <td>2023-01-01T06:00:00+00:00</td>\n      <td>max_wind_speed_10min</td>\n      <td>4208</td>\n      <td>year</td>\n      <td>23.2</td>\n    </tr>\n    <tr>\n      <th>9036818</th>\n      <td>[-57.7231, 74.0606]</td>\n      <td>2023-01-01T06:00:00+00:00</td>\n      <td>max_wind_speed_3sec</td>\n      <td>4208</td>\n      <td>year</td>\n      <td>30.4</td>\n    </tr>\n    <tr>\n      <th>9036819</th>\n      <td>[-57.7231, 74.0606]</td>\n      <td>2023-01-01T06:00:00+00:00</td>\n      <td>mean_daily_max_temp</td>\n      <td>4208</td>\n      <td>year</td>\n      <td>-13.3</td>\n    </tr>\n    <tr>\n      <th>9036820</th>\n      <td>[-57.7231, 74.0606]</td>\n      <td>2023-01-01T06:00:00+00:00</td>\n      <td>mean_daily_min_temp</td>\n      <td>4208</td>\n      <td>year</td>\n      <td>-18.6</td>\n    </tr>\n    <tr>\n      <th>9036821</th>\n      <td>[-57.7231, 74.0606]</td>\n      <td>2023-01-01T06:00:00+00:00</td>\n      <td>mean_pressure</td>\n      <td>4208</td>\n      <td>year</td>\n      <td>1006.9</td>\n    </tr>\n    <tr>\n      <th>9036822</th>\n      <td>[-57.7231, 74.0606]</td>\n      <td>2023-01-01T06:00:00+00:00</td>\n      <td>mean_relative_hum</td>\n      <td>4208</td>\n      <td>year</td>\n      <td>78.7</td>\n    </tr>\n    <tr>\n      <th>9036823</th>\n      <td>[-57.7231, 74.0606]</td>\n      <td>2023-01-01T06:00:00+00:00</td>\n      <td>mean_temp</td>\n      <td>4208</td>\n      <td>year</td>\n      <td>-15.9</td>\n    </tr>\n    <tr>\n      <th>9036824</th>\n      <td>[-57.7231, 74.0606]</td>\n      <td>2023-01-01T06:00:00+00:00</td>\n      <td>mean_vapour_pressure</td>\n      <td>4208</td>\n      <td>year</td>\n      <td>1.3</td>\n    </tr>\n    <tr>\n      <th>9036825</th>\n      <td>[-57.7231, 74.0606]</td>\n      <td>2023-01-01T06:00:00+00:00</td>\n      <td>mean_wind_dir</td>\n      <td>4208</td>\n      <td>year</td>\n      <td>24.0</td>\n    </tr>\n    <tr>\n      <th>9036826</th>\n      <td>[-57.7231, 74.0606]</td>\n      <td>2023-01-01T06:00:00+00:00</td>\n      <td>mean_wind_speed</td>\n      <td>4208</td>\n      <td>year</td>\n      <td>5.9</td>\n    </tr>\n    <tr>\n      <th>9036827</th>\n      <td>[-57.7231, 74.0606]</td>\n      <td>2023-01-01T06:00:00+00:00</td>\n      <td>min_pressure</td>\n      <td>4208</td>\n      <td>year</td>\n      <td>949.9</td>\n    </tr>\n    <tr>\n      <th>9036828</th>\n      <td>[-57.7231, 74.0606]</td>\n      <td>2023-01-01T06:00:00+00:00</td>\n      <td>min_relative_hum</td>\n      <td>4208</td>\n      <td>year</td>\n      <td>37.0</td>\n    </tr>\n    <tr>\n      <th>9036829</th>\n      <td>[-57.7231, 74.0606]</td>\n      <td>2023-01-01T06:00:00+00:00</td>\n      <td>min_temp</td>\n      <td>4208</td>\n      <td>year</td>\n      <td>-27.6</td>\n    </tr>\n    <tr>\n      <th>9036830</th>\n      <td>[-57.7231, 74.0606]</td>\n      <td>2023-01-01T06:00:00+00:00</td>\n      <td>no_cold_days</td>\n      <td>4208</td>\n      <td>year</td>\n      <td>129.0</td>\n    </tr>\n    <tr>\n      <th>9036831</th>\n      <td>[-57.7231, 74.0606]</td>\n      <td>2023-01-01T06:00:00+00:00</td>\n      <td>no_days_w_hurricane</td>\n      <td>4208</td>\n      <td>year</td>\n      <td>0.0</td>\n    </tr>\n    <tr>\n      <th>9036832</th>\n      <td>[-57.7231, 74.0606]</td>\n      <td>2023-01-01T06:00:00+00:00</td>\n      <td>no_days_w_storm</td>\n      <td>4208</td>\n      <td>year</td>\n      <td>0.0</td>\n    </tr>\n    <tr>\n      <th>9036833</th>\n      <td>[-57.7231, 74.0606]</td>\n      <td>2023-01-01T06:00:00+00:00</td>\n      <td>no_frost_days</td>\n      <td>4208</td>\n      <td>year</td>\n      <td>132.0</td>\n    </tr>\n    <tr>\n      <th>9036834</th>\n      <td>[-57.7231, 74.0606]</td>\n      <td>2023-01-01T06:00:00+00:00</td>\n      <td>no_ice_days</td>\n      <td>4208</td>\n      <td>year</td>\n      <td>131.0</td>\n    </tr>\n    <tr>\n      <th>9036835</th>\n      <td>[-57.7231, 74.0606]</td>\n      <td>2023-01-01T06:00:00+00:00</td>\n      <td>no_stormy_days</td>\n      <td>4208</td>\n      <td>year</td>\n      <td>2.0</td>\n    </tr>\n    <tr>\n      <th>9036836</th>\n      <td>[-57.7231, 74.0606]</td>\n      <td>2023-01-01T06:00:00+00:00</td>\n      <td>no_summer_days</td>\n      <td>4208</td>\n      <td>year</td>\n      <td>0.0</td>\n    </tr>\n    <tr>\n      <th>9036837</th>\n      <td>[-57.7231, 74.0606]</td>\n      <td>2023-01-01T06:00:00+00:00</td>\n      <td>no_windy_days</td>\n      <td>4208</td>\n      <td>year</td>\n      <td>39.0</td>\n    </tr>\n    <tr>\n      <th>9036838</th>\n      <td>[-73.1208, 76.7333]</td>\n      <td>2023-01-01T06:00:00+00:00</td>\n      <td>acc_heating_degree_days_19</td>\n      <td>4203</td>\n      <td>year</td>\n      <td>4430.6</td>\n    </tr>\n    <tr>\n      <th>9036839</th>\n      <td>[-73.1208, 76.7333]</td>\n      <td>2023-01-01T06:00:00+00:00</td>\n      <td>max_pressure</td>\n      <td>4203</td>\n      <td>year</td>\n      <td>1041.2</td>\n    </tr>\n    <tr>\n      <th>9036840</th>\n      <td>[-73.1208, 76.7333]</td>\n      <td>2023-01-01T06:00:00+00:00</td>\n      <td>max_relative_hum</td>\n      <td>4203</td>\n      <td>year</td>\n      <td>93.0</td>\n    </tr>\n    <tr>\n      <th>9036841</th>\n      <td>[-73.1208, 76.7333]</td>\n      <td>2023-01-01T06:00:00+00:00</td>\n      <td>max_temp_w_date</td>\n      <td>4203</td>\n      <td>year</td>\n      <td>-0.2</td>\n    </tr>\n    <tr>\n      <th>9036842</th>\n      <td>[-73.1208, 76.7333]</td>\n      <td>2023-01-01T06:00:00+00:00</td>\n      <td>max_wind_speed_10min</td>\n      <td>4203</td>\n      <td>year</td>\n      <td>20.6</td>\n    </tr>\n    <tr>\n      <th>9036843</th>\n      <td>[-73.1208, 76.7333]</td>\n      <td>2023-01-01T06:00:00+00:00</td>\n      <td>max_wind_speed_3sec</td>\n      <td>4203</td>\n      <td>year</td>\n      <td>27.8</td>\n    </tr>\n    <tr>\n      <th>9036844</th>\n      <td>[-73.1208, 76.7333]</td>\n      <td>2023-01-01T06:00:00+00:00</td>\n      <td>mean_daily_max_temp</td>\n      <td>4203</td>\n      <td>year</td>\n      <td>-12.8</td>\n    </tr>\n    <tr>\n      <th>9036845</th>\n      <td>[-73.1208, 76.7333]</td>\n      <td>2023-01-01T06:00:00+00:00</td>\n      <td>mean_daily_min_temp</td>\n      <td>4203</td>\n      <td>year</td>\n      <td>-16.4</td>\n    </tr>\n    <tr>\n      <th>9036846</th>\n      <td>[-73.1208, 76.7333]</td>\n      <td>2023-01-01T06:00:00+00:00</td>\n      <td>mean_pressure</td>\n      <td>4203</td>\n      <td>year</td>\n      <td>1008.2</td>\n    </tr>\n    <tr>\n      <th>9036847</th>\n      <td>[-73.1208, 76.7333]</td>\n      <td>2023-01-01T06:00:00+00:00</td>\n      <td>mean_relative_hum</td>\n      <td>4203</td>\n      <td>year</td>\n      <td>75.4</td>\n    </tr>\n    <tr>\n      <th>9036848</th>\n      <td>[-73.1208, 76.7333]</td>\n      <td>2023-01-01T06:00:00+00:00</td>\n      <td>mean_temp</td>\n      <td>4203</td>\n      <td>year</td>\n      <td>-14.6</td>\n    </tr>\n    <tr>\n      <th>9036849</th>\n      <td>[-73.1208, 76.7333]</td>\n      <td>2023-01-01T06:00:00+00:00</td>\n      <td>mean_vapour_pressure</td>\n      <td>4203</td>\n      <td>year</td>\n      <td>1.4</td>\n    </tr>\n    <tr>\n      <th>9036850</th>\n      <td>[-73.1208, 76.7333]</td>\n      <td>2023-01-01T06:00:00+00:00</td>\n      <td>mean_wind_dir</td>\n      <td>4203</td>\n      <td>year</td>\n      <td>289.0</td>\n    </tr>\n    <tr>\n      <th>9036851</th>\n      <td>[-73.1208, 76.7333]</td>\n      <td>2023-01-01T06:00:00+00:00</td>\n      <td>mean_wind_speed</td>\n      <td>4203</td>\n      <td>year</td>\n      <td>5.8</td>\n    </tr>\n    <tr>\n      <th>9036852</th>\n      <td>[-73.1208, 76.7333]</td>\n      <td>2023-01-01T06:00:00+00:00</td>\n      <td>min_pressure</td>\n      <td>4203</td>\n      <td>year</td>\n      <td>956.4</td>\n    </tr>\n    <tr>\n      <th>9036853</th>\n      <td>[-73.1208, 76.7333]</td>\n      <td>2023-01-01T06:00:00+00:00</td>\n      <td>min_relative_hum</td>\n      <td>4203</td>\n      <td>year</td>\n      <td>44.0</td>\n    </tr>\n    <tr>\n      <th>9036854</th>\n      <td>[-73.1208, 76.7333]</td>\n      <td>2023-01-01T06:00:00+00:00</td>\n      <td>min_temp</td>\n      <td>4203</td>\n      <td>year</td>\n      <td>-26.3</td>\n    </tr>\n    <tr>\n      <th>9036855</th>\n      <td>[-73.1208, 76.7333]</td>\n      <td>2023-01-01T06:00:00+00:00</td>\n      <td>no_cold_days</td>\n      <td>4203</td>\n      <td>year</td>\n      <td>116.0</td>\n    </tr>\n    <tr>\n      <th>9036856</th>\n      <td>[-73.1208, 76.7333]</td>\n      <td>2023-01-01T06:00:00+00:00</td>\n      <td>no_days_w_hurricane</td>\n      <td>4203</td>\n      <td>year</td>\n      <td>0.0</td>\n    </tr>\n    <tr>\n      <th>9036857</th>\n      <td>[-73.1208, 76.7333]</td>\n      <td>2023-01-01T06:00:00+00:00</td>\n      <td>no_days_w_storm</td>\n      <td>4203</td>\n      <td>year</td>\n      <td>0.0</td>\n    </tr>\n    <tr>\n      <th>9036858</th>\n      <td>[-73.1208, 76.7333]</td>\n      <td>2023-01-01T06:00:00+00:00</td>\n      <td>no_frost_days</td>\n      <td>4203</td>\n      <td>year</td>\n      <td>132.0</td>\n    </tr>\n  </tbody>\n</table>\n</div>"
     },
     "execution_count": 19,
     "metadata": {},
     "output_type": "execute_result"
    }
   ],
   "source": [
    "df.tail(50)"
   ],
   "metadata": {
    "collapsed": false,
    "pycharm": {
     "name": "#%%\n"
    }
   }
  },
  {
   "cell_type": "markdown",
   "source": [
    "for i in range(10):\n",
    "    df[int(len(df)/10)*i:int(len(df)/10)*(i+1)].to_csv(\"clean split data/stations_clean_\"+str(i)+\".csv\")"
   ],
   "metadata": {
    "collapsed": false,
    "pycharm": {
     "name": "#%% md\n"
    }
   }
  },
  {
   "cell_type": "code",
   "execution_count": 20,
   "outputs": [
    {
     "data": {
      "text/plain": "coordinates       2\nto                0\nparameterId       0\nstationId         0\ntimeResolution    0\nvalue             0\ndtype: int64"
     },
     "execution_count": 20,
     "metadata": {},
     "output_type": "execute_result"
    }
   ],
   "source": [
    "df.isna().sum()"
   ],
   "metadata": {
    "collapsed": false,
    "pycharm": {
     "name": "#%%\n"
    }
   }
  },
  {
   "cell_type": "code",
   "execution_count": 21,
   "outputs": [],
   "source": [
    "df_hour = df.loc[df[\"timeResolution\"]==\"hour\"]\n",
    "df_day = df.loc[df[\"timeResolution\"]==\"day\"]\n",
    "df_month = df.loc[df[\"timeResolution\"]==\"month\"]\n",
    "df_year = df.loc[df[\"timeResolution\"]==\"year\"]"
   ],
   "metadata": {
    "collapsed": false,
    "pycharm": {
     "name": "#%%\n"
    }
   }
  },
  {
   "cell_type": "code",
   "execution_count": 22,
   "outputs": [],
   "source": [
    "df_hour_pivot = df_hour.pivot(index=[\"to\",\"stationId\"],columns=[\"parameterId\"], values=\"value\")"
   ],
   "metadata": {
    "collapsed": false,
    "pycharm": {
     "name": "#%%\n"
    }
   }
  },
  {
   "cell_type": "code",
   "execution_count": 32,
   "outputs": [
    {
     "data": {
      "text/plain": "parameterId                          acc_precip  acc_precip_past12h  \\\nto                        stationId                                   \n2021-04-17T02:00:00+00:00 5009              0.0                 NaN   \n                          5031              0.0                 NaN   \n                          5065              0.0                 NaN   \n                          5075              0.0                 NaN   \n                          5081              0.0                 NaN   \n...                                         ...                 ...   \n                          6186              NaN                 NaN   \n                          6187              NaN                 NaN   \n                          6188              0.0                 NaN   \n                          6190              NaN                 NaN   \n                          6193              0.0                 NaN   \n\nparameterId                          acc_precip_past24h  bright_sunshine  \\\nto                        stationId                                        \n2021-04-17T02:00:00+00:00 5009                      NaN              NaN   \n                          5031                      NaN              NaN   \n                          5065                      NaN              NaN   \n                          5075                      NaN              NaN   \n                          5081                      NaN              NaN   \n...                                                 ...              ...   \n                          6186                      NaN              NaN   \n                          6187                      NaN              0.0   \n                          6188                      NaN              0.0   \n                          6190                      NaN              NaN   \n                          6193                      NaN              0.0   \n\nparameterId                          leaf_moisture  max_temp_12h  \\\nto                        stationId                                \n2021-04-17T02:00:00+00:00 5009                 NaN           NaN   \n                          5031                 NaN           NaN   \n                          5065                 NaN           NaN   \n                          5075                 NaN           NaN   \n                          5081                 NaN           NaN   \n...                                            ...           ...   \n                          6186                 NaN           NaN   \n                          6187                 NaN           NaN   \n                          6188                 0.0           NaN   \n                          6190                 NaN           NaN   \n                          6193                 NaN           NaN   \n\nparameterId                          max_temp_w_date  max_wind_speed_10min  \\\nto                        stationId                                          \n2021-04-17T02:00:00+00:00 5009                   NaN                   NaN   \n                          5031                   NaN                   NaN   \n                          5065                   NaN                   NaN   \n                          5075                   NaN                   NaN   \n                          5081                   NaN                   NaN   \n...                                              ...                   ...   \n                          6186                   7.6                   NaN   \n                          6187                   NaN                   NaN   \n                          6188                   6.3                   2.4   \n                          6190                   5.2                   4.6   \n                          6193                   5.3                   7.9   \n\nparameterId                          max_wind_speed_3sec  mean_cloud_cover  \\\nto                        stationId                                          \n2021-04-17T02:00:00+00:00 5009                       NaN               NaN   \n                          5031                       NaN               NaN   \n                          5065                       NaN               NaN   \n                          5075                       NaN               NaN   \n                          5081                       NaN               NaN   \n...                                                  ...               ...   \n                          6186                       NaN               NaN   \n                          6187                       NaN               NaN   \n                          6188                       4.5               NaN   \n                          6190                       9.3               NaN   \n                          6193                       9.9               NaN   \n\nparameterId                          ...  mean_temp  mean_wind_dir  \\\nto                        stationId  ...                             \n2021-04-17T02:00:00+00:00 5009       ...        NaN            NaN   \n                          5031       ...        NaN            NaN   \n                          5065       ...        NaN            NaN   \n                          5075       ...        NaN            NaN   \n                          5081       ...        NaN            NaN   \n...                                  ...        ...            ...   \n                          6186       ...        7.4            NaN   \n                          6187       ...        NaN            NaN   \n                          6188       ...        6.2          351.0   \n                          6190       ...        5.0           19.0   \n                          6193       ...        5.0           48.0   \n\nparameterId                          mean_wind_dir_min0  mean_wind_speed  \\\nto                        stationId                                        \n2021-04-17T02:00:00+00:00 5009                      NaN              NaN   \n                          5031                      NaN              NaN   \n                          5065                      NaN              NaN   \n                          5075                      NaN              NaN   \n                          5081                      NaN              NaN   \n...                                                 ...              ...   \n                          6186                      NaN              NaN   \n                          6187                      NaN              NaN   \n                          6188                      NaN              2.1   \n                          6190                      NaN              4.2   \n                          6193                      NaN              6.3   \n\nparameterId                          min_temp  min_temperature_12h  \\\nto                        stationId                                  \n2021-04-17T02:00:00+00:00 5009            NaN                  NaN   \n                          5031            NaN                  NaN   \n                          5065            NaN                  NaN   \n                          5075            NaN                  NaN   \n                          5081            NaN                  NaN   \n...                                       ...                  ...   \n                          6186            7.0                  NaN   \n                          6187            NaN                  NaN   \n                          6188            6.0                  NaN   \n                          6190            4.8                  NaN   \n                          6193            4.8                  NaN   \n\nparameterId                          temp_grass  temp_soil_10  temp_soil_30  \\\nto                        stationId                                           \n2021-04-17T02:00:00+00:00 5009              NaN           NaN           NaN   \n                          5031              NaN           NaN           NaN   \n                          5065              NaN           NaN           NaN   \n                          5075              NaN           NaN           NaN   \n                          5081              NaN           NaN           NaN   \n...                                         ...           ...           ...   \n                          6186              NaN           NaN           NaN   \n                          6187              NaN           NaN           NaN   \n                          6188              4.8           7.2           6.0   \n                          6190              4.0           NaN           NaN   \n                          6193              NaN           NaN           NaN   \n\nparameterId                          vapour_pressure_deficit_mean  \nto                        stationId                                \n2021-04-17T02:00:00+00:00 5009                                NaN  \n                          5031                                NaN  \n                          5065                                NaN  \n                          5075                                NaN  \n                          5081                                NaN  \n...                                                           ...  \n                          6186                                0.6  \n                          6187                                NaN  \n                          6188                                0.5  \n                          6190                                0.2  \n                          6193                                0.2  \n\n[100 rows x 23 columns]",
      "text/html": "<div>\n<style scoped>\n    .dataframe tbody tr th:only-of-type {\n        vertical-align: middle;\n    }\n\n    .dataframe tbody tr th {\n        vertical-align: top;\n    }\n\n    .dataframe thead th {\n        text-align: right;\n    }\n</style>\n<table border=\"1\" class=\"dataframe\">\n  <thead>\n    <tr style=\"text-align: right;\">\n      <th></th>\n      <th>parameterId</th>\n      <th>acc_precip</th>\n      <th>acc_precip_past12h</th>\n      <th>acc_precip_past24h</th>\n      <th>bright_sunshine</th>\n      <th>leaf_moisture</th>\n      <th>max_temp_12h</th>\n      <th>max_temp_w_date</th>\n      <th>max_wind_speed_10min</th>\n      <th>max_wind_speed_3sec</th>\n      <th>mean_cloud_cover</th>\n      <th>...</th>\n      <th>mean_temp</th>\n      <th>mean_wind_dir</th>\n      <th>mean_wind_dir_min0</th>\n      <th>mean_wind_speed</th>\n      <th>min_temp</th>\n      <th>min_temperature_12h</th>\n      <th>temp_grass</th>\n      <th>temp_soil_10</th>\n      <th>temp_soil_30</th>\n      <th>vapour_pressure_deficit_mean</th>\n    </tr>\n    <tr>\n      <th>to</th>\n      <th>stationId</th>\n      <th></th>\n      <th></th>\n      <th></th>\n      <th></th>\n      <th></th>\n      <th></th>\n      <th></th>\n      <th></th>\n      <th></th>\n      <th></th>\n      <th></th>\n      <th></th>\n      <th></th>\n      <th></th>\n      <th></th>\n      <th></th>\n      <th></th>\n      <th></th>\n      <th></th>\n      <th></th>\n      <th></th>\n    </tr>\n  </thead>\n  <tbody>\n    <tr>\n      <th rowspan=\"11\" valign=\"top\">2021-04-17T02:00:00+00:00</th>\n      <th>5009</th>\n      <td>0.0</td>\n      <td>NaN</td>\n      <td>NaN</td>\n      <td>NaN</td>\n      <td>NaN</td>\n      <td>NaN</td>\n      <td>NaN</td>\n      <td>NaN</td>\n      <td>NaN</td>\n      <td>NaN</td>\n      <td>...</td>\n      <td>NaN</td>\n      <td>NaN</td>\n      <td>NaN</td>\n      <td>NaN</td>\n      <td>NaN</td>\n      <td>NaN</td>\n      <td>NaN</td>\n      <td>NaN</td>\n      <td>NaN</td>\n      <td>NaN</td>\n    </tr>\n    <tr>\n      <th>5031</th>\n      <td>0.0</td>\n      <td>NaN</td>\n      <td>NaN</td>\n      <td>NaN</td>\n      <td>NaN</td>\n      <td>NaN</td>\n      <td>NaN</td>\n      <td>NaN</td>\n      <td>NaN</td>\n      <td>NaN</td>\n      <td>...</td>\n      <td>NaN</td>\n      <td>NaN</td>\n      <td>NaN</td>\n      <td>NaN</td>\n      <td>NaN</td>\n      <td>NaN</td>\n      <td>NaN</td>\n      <td>NaN</td>\n      <td>NaN</td>\n      <td>NaN</td>\n    </tr>\n    <tr>\n      <th>5065</th>\n      <td>0.0</td>\n      <td>NaN</td>\n      <td>NaN</td>\n      <td>NaN</td>\n      <td>NaN</td>\n      <td>NaN</td>\n      <td>NaN</td>\n      <td>NaN</td>\n      <td>NaN</td>\n      <td>NaN</td>\n      <td>...</td>\n      <td>NaN</td>\n      <td>NaN</td>\n      <td>NaN</td>\n      <td>NaN</td>\n      <td>NaN</td>\n      <td>NaN</td>\n      <td>NaN</td>\n      <td>NaN</td>\n      <td>NaN</td>\n      <td>NaN</td>\n    </tr>\n    <tr>\n      <th>5075</th>\n      <td>0.0</td>\n      <td>NaN</td>\n      <td>NaN</td>\n      <td>NaN</td>\n      <td>NaN</td>\n      <td>NaN</td>\n      <td>NaN</td>\n      <td>NaN</td>\n      <td>NaN</td>\n      <td>NaN</td>\n      <td>...</td>\n      <td>NaN</td>\n      <td>NaN</td>\n      <td>NaN</td>\n      <td>NaN</td>\n      <td>NaN</td>\n      <td>NaN</td>\n      <td>NaN</td>\n      <td>NaN</td>\n      <td>NaN</td>\n      <td>NaN</td>\n    </tr>\n    <tr>\n      <th>5081</th>\n      <td>0.0</td>\n      <td>NaN</td>\n      <td>NaN</td>\n      <td>NaN</td>\n      <td>NaN</td>\n      <td>NaN</td>\n      <td>NaN</td>\n      <td>NaN</td>\n      <td>NaN</td>\n      <td>NaN</td>\n      <td>...</td>\n      <td>NaN</td>\n      <td>NaN</td>\n      <td>NaN</td>\n      <td>NaN</td>\n      <td>NaN</td>\n      <td>NaN</td>\n      <td>NaN</td>\n      <td>NaN</td>\n      <td>NaN</td>\n      <td>NaN</td>\n    </tr>\n    <tr>\n      <th>...</th>\n      <td>...</td>\n      <td>...</td>\n      <td>...</td>\n      <td>...</td>\n      <td>...</td>\n      <td>...</td>\n      <td>...</td>\n      <td>...</td>\n      <td>...</td>\n      <td>...</td>\n      <td>...</td>\n      <td>...</td>\n      <td>...</td>\n      <td>...</td>\n      <td>...</td>\n      <td>...</td>\n      <td>...</td>\n      <td>...</td>\n      <td>...</td>\n      <td>...</td>\n      <td>...</td>\n    </tr>\n    <tr>\n      <th>6186</th>\n      <td>NaN</td>\n      <td>NaN</td>\n      <td>NaN</td>\n      <td>NaN</td>\n      <td>NaN</td>\n      <td>NaN</td>\n      <td>7.6</td>\n      <td>NaN</td>\n      <td>NaN</td>\n      <td>NaN</td>\n      <td>...</td>\n      <td>7.4</td>\n      <td>NaN</td>\n      <td>NaN</td>\n      <td>NaN</td>\n      <td>7.0</td>\n      <td>NaN</td>\n      <td>NaN</td>\n      <td>NaN</td>\n      <td>NaN</td>\n      <td>0.6</td>\n    </tr>\n    <tr>\n      <th>6187</th>\n      <td>NaN</td>\n      <td>NaN</td>\n      <td>NaN</td>\n      <td>0.0</td>\n      <td>NaN</td>\n      <td>NaN</td>\n      <td>NaN</td>\n      <td>NaN</td>\n      <td>NaN</td>\n      <td>NaN</td>\n      <td>...</td>\n      <td>NaN</td>\n      <td>NaN</td>\n      <td>NaN</td>\n      <td>NaN</td>\n      <td>NaN</td>\n      <td>NaN</td>\n      <td>NaN</td>\n      <td>NaN</td>\n      <td>NaN</td>\n      <td>NaN</td>\n    </tr>\n    <tr>\n      <th>6188</th>\n      <td>0.0</td>\n      <td>NaN</td>\n      <td>NaN</td>\n      <td>0.0</td>\n      <td>0.0</td>\n      <td>NaN</td>\n      <td>6.3</td>\n      <td>2.4</td>\n      <td>4.5</td>\n      <td>NaN</td>\n      <td>...</td>\n      <td>6.2</td>\n      <td>351.0</td>\n      <td>NaN</td>\n      <td>2.1</td>\n      <td>6.0</td>\n      <td>NaN</td>\n      <td>4.8</td>\n      <td>7.2</td>\n      <td>6.0</td>\n      <td>0.5</td>\n    </tr>\n    <tr>\n      <th>6190</th>\n      <td>NaN</td>\n      <td>NaN</td>\n      <td>NaN</td>\n      <td>NaN</td>\n      <td>NaN</td>\n      <td>NaN</td>\n      <td>5.2</td>\n      <td>4.6</td>\n      <td>9.3</td>\n      <td>NaN</td>\n      <td>...</td>\n      <td>5.0</td>\n      <td>19.0</td>\n      <td>NaN</td>\n      <td>4.2</td>\n      <td>4.8</td>\n      <td>NaN</td>\n      <td>4.0</td>\n      <td>NaN</td>\n      <td>NaN</td>\n      <td>0.2</td>\n    </tr>\n    <tr>\n      <th>6193</th>\n      <td>0.0</td>\n      <td>NaN</td>\n      <td>NaN</td>\n      <td>0.0</td>\n      <td>NaN</td>\n      <td>NaN</td>\n      <td>5.3</td>\n      <td>7.9</td>\n      <td>9.9</td>\n      <td>NaN</td>\n      <td>...</td>\n      <td>5.0</td>\n      <td>48.0</td>\n      <td>NaN</td>\n      <td>6.3</td>\n      <td>4.8</td>\n      <td>NaN</td>\n      <td>NaN</td>\n      <td>NaN</td>\n      <td>NaN</td>\n      <td>0.2</td>\n    </tr>\n  </tbody>\n</table>\n<p>100 rows × 23 columns</p>\n</div>"
     },
     "execution_count": 32,
     "metadata": {},
     "output_type": "execute_result"
    }
   ],
   "source": [
    "df_hour_pivot.head(100)"
   ],
   "metadata": {
    "collapsed": false,
    "pycharm": {
     "name": "#%%\n"
    }
   }
  },
  {
   "cell_type": "code",
   "execution_count": 33,
   "outputs": [
    {
     "data": {
      "text/plain": "parameterId\nacc_precip                       355804\nacc_precip_past12h              1358165\nacc_precip_past24h              1359704\nbright_sunshine                 1117545\nleaf_moisture                   1212203\nmax_temp_12h                    1356242\nmax_temp_w_date                  795472\nmax_wind_speed_10min             892011\nmax_wind_speed_3sec              708055\nmean_cloud_cover                1318510\nmean_pressure                    721995\nmean_radiation                  1063678\nmean_relative_hum                659142\nmean_temp                        662654\nmean_wind_dir                    707849\nmean_wind_dir_min0              1176642\nmean_wind_speed                  707489\nmin_temp                         795471\nmin_temperature_12h             1356242\ntemp_grass                      1179987\ntemp_soil_10                    1219099\ntemp_soil_30                    1220935\nvapour_pressure_deficit_mean     854890\ndtype: int64"
     },
     "execution_count": 33,
     "metadata": {},
     "output_type": "execute_result"
    }
   ],
   "source": [
    "df_hour_pivot.isna().sum()"
   ],
   "metadata": {
    "collapsed": false,
    "pycharm": {
     "name": "#%%\n"
    }
   }
  },
  {
   "cell_type": "code",
   "execution_count": 34,
   "outputs": [],
   "source": [
    "df_hour_pivot.drop(\"acc_precip_past12h\",axis=1,inplace=True)\n",
    "df_hour_pivot.drop(\"acc_precip_past24h\",axis=1,inplace=True)\n",
    "df_hour_pivot.drop(\"bright_sunshine\",axis=1,inplace=True)\n",
    "df_hour_pivot.drop(\"leaf_moisture\",axis=1,inplace=True)\n",
    "df_hour_pivot.drop(\"max_temp_12h\",axis=1,inplace=True)\n",
    "df_hour_pivot.drop(\"mean_cloud_cover\",axis=1,inplace=True)\n",
    "df_hour_pivot.drop(\"mean_radiation\",axis=1,inplace=True)\n",
    "df_hour_pivot.drop(\"mean_wind_dir_min0\",axis=1,inplace=True)\n",
    "df_hour_pivot.drop(\"min_temperature_12h\",axis=1,inplace=True)\n",
    "df_hour_pivot.drop(\"temp_grass\",axis=1,inplace=True)\n",
    "df_hour_pivot.drop(\"temp_soil_10\",axis=1,inplace=True)\n",
    "df_hour_pivot.drop(\"temp_soil_30\",axis=1,inplace=True)"
   ],
   "metadata": {
    "collapsed": false,
    "pycharm": {
     "name": "#%%\n"
    }
   }
  },
  {
   "cell_type": "code",
   "execution_count": 36,
   "outputs": [
    {
     "data": {
      "text/plain": "parameterId\nacc_precip                      355804\nmax_temp_w_date                 795472\nmax_wind_speed_10min            892011\nmax_wind_speed_3sec             708055\nmean_pressure                   721995\nmean_relative_hum               659142\nmean_temp                       662654\nmean_wind_dir                   707849\nmean_wind_speed                 707489\nmin_temp                        795471\nvapour_pressure_deficit_mean    854890\ndtype: int64"
     },
     "execution_count": 36,
     "metadata": {},
     "output_type": "execute_result"
    }
   ],
   "source": [
    "df_hour_pivot.isna().sum()"
   ],
   "metadata": {
    "collapsed": false,
    "pycharm": {
     "name": "#%%\n"
    }
   }
  },
  {
   "cell_type": "code",
   "execution_count": 37,
   "outputs": [
    {
     "data": {
      "text/plain": "parameterId                          acc_precip  max_temp_w_date  \\\nto                        stationId                                \n2021-04-17T02:00:00+00:00 5009              0.0              NaN   \n                          5031              0.0              NaN   \n                          5065              0.0              NaN   \n                          5075              0.0              NaN   \n                          5081              0.0              NaN   \n...                                         ...              ...   \n2021-04-17T03:00:00+00:00 5185              0.0              NaN   \n                          5202              0.0              NaN   \n                          5205              0.0              NaN   \n                          5220              0.0              NaN   \n                          5225              0.0              NaN   \n\nparameterId                          max_wind_speed_10min  \\\nto                        stationId                         \n2021-04-17T02:00:00+00:00 5009                        NaN   \n                          5031                        NaN   \n                          5065                        NaN   \n                          5075                        NaN   \n                          5081                        NaN   \n...                                                   ...   \n2021-04-17T03:00:00+00:00 5185                        NaN   \n                          5202                        NaN   \n                          5205                        NaN   \n                          5220                        NaN   \n                          5225                        NaN   \n\nparameterId                          max_wind_speed_3sec  mean_pressure  \\\nto                        stationId                                       \n2021-04-17T02:00:00+00:00 5009                       NaN            NaN   \n                          5031                       NaN            NaN   \n                          5065                       NaN            NaN   \n                          5075                       NaN            NaN   \n                          5081                       NaN            NaN   \n...                                                  ...            ...   \n2021-04-17T03:00:00+00:00 5185                       NaN            NaN   \n                          5202                       NaN            NaN   \n                          5205                       NaN            NaN   \n                          5220                       NaN            NaN   \n                          5225                       NaN            NaN   \n\nparameterId                          mean_relative_hum  mean_temp  \\\nto                        stationId                                 \n2021-04-17T02:00:00+00:00 5009                     NaN        NaN   \n                          5031                     NaN        NaN   \n                          5065                     NaN        NaN   \n                          5075                     NaN        NaN   \n                          5081                     NaN        NaN   \n...                                                ...        ...   \n2021-04-17T03:00:00+00:00 5185                     NaN        NaN   \n                          5202                     NaN        NaN   \n                          5205                     NaN        NaN   \n                          5220                     NaN        NaN   \n                          5225                     NaN        NaN   \n\nparameterId                          mean_wind_dir  mean_wind_speed  min_temp  \\\nto                        stationId                                             \n2021-04-17T02:00:00+00:00 5009                 NaN              NaN       NaN   \n                          5031                 NaN              NaN       NaN   \n                          5065                 NaN              NaN       NaN   \n                          5075                 NaN              NaN       NaN   \n                          5081                 NaN              NaN       NaN   \n...                                            ...              ...       ...   \n2021-04-17T03:00:00+00:00 5185                 NaN              NaN       NaN   \n                          5202                 NaN              NaN       NaN   \n                          5205                 NaN              NaN       NaN   \n                          5220                 NaN              NaN       NaN   \n                          5225                 NaN              NaN       NaN   \n\nparameterId                          vapour_pressure_deficit_mean  \nto                        stationId                                \n2021-04-17T02:00:00+00:00 5009                                NaN  \n                          5031                                NaN  \n                          5065                                NaN  \n                          5075                                NaN  \n                          5081                                NaN  \n...                                                           ...  \n2021-04-17T03:00:00+00:00 5185                                NaN  \n                          5202                                NaN  \n                          5205                                NaN  \n                          5220                                NaN  \n                          5225                                NaN  \n\n[150 rows x 11 columns]",
      "text/html": "<div>\n<style scoped>\n    .dataframe tbody tr th:only-of-type {\n        vertical-align: middle;\n    }\n\n    .dataframe tbody tr th {\n        vertical-align: top;\n    }\n\n    .dataframe thead th {\n        text-align: right;\n    }\n</style>\n<table border=\"1\" class=\"dataframe\">\n  <thead>\n    <tr style=\"text-align: right;\">\n      <th></th>\n      <th>parameterId</th>\n      <th>acc_precip</th>\n      <th>max_temp_w_date</th>\n      <th>max_wind_speed_10min</th>\n      <th>max_wind_speed_3sec</th>\n      <th>mean_pressure</th>\n      <th>mean_relative_hum</th>\n      <th>mean_temp</th>\n      <th>mean_wind_dir</th>\n      <th>mean_wind_speed</th>\n      <th>min_temp</th>\n      <th>vapour_pressure_deficit_mean</th>\n    </tr>\n    <tr>\n      <th>to</th>\n      <th>stationId</th>\n      <th></th>\n      <th></th>\n      <th></th>\n      <th></th>\n      <th></th>\n      <th></th>\n      <th></th>\n      <th></th>\n      <th></th>\n      <th></th>\n      <th></th>\n    </tr>\n  </thead>\n  <tbody>\n    <tr>\n      <th rowspan=\"5\" valign=\"top\">2021-04-17T02:00:00+00:00</th>\n      <th>5009</th>\n      <td>0.0</td>\n      <td>NaN</td>\n      <td>NaN</td>\n      <td>NaN</td>\n      <td>NaN</td>\n      <td>NaN</td>\n      <td>NaN</td>\n      <td>NaN</td>\n      <td>NaN</td>\n      <td>NaN</td>\n      <td>NaN</td>\n    </tr>\n    <tr>\n      <th>5031</th>\n      <td>0.0</td>\n      <td>NaN</td>\n      <td>NaN</td>\n      <td>NaN</td>\n      <td>NaN</td>\n      <td>NaN</td>\n      <td>NaN</td>\n      <td>NaN</td>\n      <td>NaN</td>\n      <td>NaN</td>\n      <td>NaN</td>\n    </tr>\n    <tr>\n      <th>5065</th>\n      <td>0.0</td>\n      <td>NaN</td>\n      <td>NaN</td>\n      <td>NaN</td>\n      <td>NaN</td>\n      <td>NaN</td>\n      <td>NaN</td>\n      <td>NaN</td>\n      <td>NaN</td>\n      <td>NaN</td>\n      <td>NaN</td>\n    </tr>\n    <tr>\n      <th>5075</th>\n      <td>0.0</td>\n      <td>NaN</td>\n      <td>NaN</td>\n      <td>NaN</td>\n      <td>NaN</td>\n      <td>NaN</td>\n      <td>NaN</td>\n      <td>NaN</td>\n      <td>NaN</td>\n      <td>NaN</td>\n      <td>NaN</td>\n    </tr>\n    <tr>\n      <th>5081</th>\n      <td>0.0</td>\n      <td>NaN</td>\n      <td>NaN</td>\n      <td>NaN</td>\n      <td>NaN</td>\n      <td>NaN</td>\n      <td>NaN</td>\n      <td>NaN</td>\n      <td>NaN</td>\n      <td>NaN</td>\n      <td>NaN</td>\n    </tr>\n    <tr>\n      <th>...</th>\n      <th>...</th>\n      <td>...</td>\n      <td>...</td>\n      <td>...</td>\n      <td>...</td>\n      <td>...</td>\n      <td>...</td>\n      <td>...</td>\n      <td>...</td>\n      <td>...</td>\n      <td>...</td>\n      <td>...</td>\n    </tr>\n    <tr>\n      <th rowspan=\"5\" valign=\"top\">2021-04-17T03:00:00+00:00</th>\n      <th>5185</th>\n      <td>0.0</td>\n      <td>NaN</td>\n      <td>NaN</td>\n      <td>NaN</td>\n      <td>NaN</td>\n      <td>NaN</td>\n      <td>NaN</td>\n      <td>NaN</td>\n      <td>NaN</td>\n      <td>NaN</td>\n      <td>NaN</td>\n    </tr>\n    <tr>\n      <th>5202</th>\n      <td>0.0</td>\n      <td>NaN</td>\n      <td>NaN</td>\n      <td>NaN</td>\n      <td>NaN</td>\n      <td>NaN</td>\n      <td>NaN</td>\n      <td>NaN</td>\n      <td>NaN</td>\n      <td>NaN</td>\n      <td>NaN</td>\n    </tr>\n    <tr>\n      <th>5205</th>\n      <td>0.0</td>\n      <td>NaN</td>\n      <td>NaN</td>\n      <td>NaN</td>\n      <td>NaN</td>\n      <td>NaN</td>\n      <td>NaN</td>\n      <td>NaN</td>\n      <td>NaN</td>\n      <td>NaN</td>\n      <td>NaN</td>\n    </tr>\n    <tr>\n      <th>5220</th>\n      <td>0.0</td>\n      <td>NaN</td>\n      <td>NaN</td>\n      <td>NaN</td>\n      <td>NaN</td>\n      <td>NaN</td>\n      <td>NaN</td>\n      <td>NaN</td>\n      <td>NaN</td>\n      <td>NaN</td>\n      <td>NaN</td>\n    </tr>\n    <tr>\n      <th>5225</th>\n      <td>0.0</td>\n      <td>NaN</td>\n      <td>NaN</td>\n      <td>NaN</td>\n      <td>NaN</td>\n      <td>NaN</td>\n      <td>NaN</td>\n      <td>NaN</td>\n      <td>NaN</td>\n      <td>NaN</td>\n      <td>NaN</td>\n    </tr>\n  </tbody>\n</table>\n<p>150 rows × 11 columns</p>\n</div>"
     },
     "execution_count": 37,
     "metadata": {},
     "output_type": "execute_result"
    }
   ],
   "source": [
    "df_hour_pivot.head(150)"
   ],
   "metadata": {
    "collapsed": false,
    "pycharm": {
     "name": "#%%\n"
    }
   }
  },
  {
   "cell_type": "code",
   "execution_count": null,
   "outputs": [],
   "source": [],
   "metadata": {
    "collapsed": false,
    "pycharm": {
     "name": "#%%\n"
    }
   }
  },
  {
   "cell_type": "code",
   "execution_count": 31,
   "outputs": [
    {
     "data": {
      "text/plain": "              coordinates                         to  \\\n3378  [-13.7119, 80.6494]  2021-04-17T06:00:00+00:00   \n3379  [-13.7119, 80.6494]  2021-04-17T06:00:00+00:00   \n3380  [-13.7119, 80.6494]  2021-04-17T06:00:00+00:00   \n3381  [-13.7119, 80.6494]  2021-04-17T06:00:00+00:00   \n3382  [-13.7119, 80.6494]  2021-04-17T06:00:00+00:00   \n3384  [-13.7119, 80.6494]  2021-04-17T06:00:00+00:00   \n3386  [-13.7119, 80.6494]  2021-04-17T06:00:00+00:00   \n3388  [-13.7119, 80.6494]  2021-04-17T06:00:00+00:00   \n3390  [-13.7119, 80.6494]  2021-04-17T06:00:00+00:00   \n3391  [-13.7119, 80.6494]  2021-04-17T06:00:00+00:00   \n\n                     parameterId  stationId timeResolution   value  \n3378  acc_heating_degree_days_19       4313            day    39.4  \n3379                max_pressure       4313            day  1033.1  \n3380            max_relative_hum       4313            day    69.0  \n3381             max_temp_w_date       4313            day   -17.1  \n3382        max_wind_speed_10min       4313            day     5.7  \n3384         max_wind_speed_3sec       4313            day     7.2  \n3386               mean_pressure       4313            day  1031.6  \n3388           mean_relative_hum       4313            day    62.1  \n3390                   mean_temp       4313            day   -20.4  \n3391        mean_vapour_pressure       4313            day     0.6  ",
      "text/html": "<div>\n<style scoped>\n    .dataframe tbody tr th:only-of-type {\n        vertical-align: middle;\n    }\n\n    .dataframe tbody tr th {\n        vertical-align: top;\n    }\n\n    .dataframe thead th {\n        text-align: right;\n    }\n</style>\n<table border=\"1\" class=\"dataframe\">\n  <thead>\n    <tr style=\"text-align: right;\">\n      <th></th>\n      <th>coordinates</th>\n      <th>to</th>\n      <th>parameterId</th>\n      <th>stationId</th>\n      <th>timeResolution</th>\n      <th>value</th>\n    </tr>\n  </thead>\n  <tbody>\n    <tr>\n      <th>3378</th>\n      <td>[-13.7119, 80.6494]</td>\n      <td>2021-04-17T06:00:00+00:00</td>\n      <td>acc_heating_degree_days_19</td>\n      <td>4313</td>\n      <td>day</td>\n      <td>39.4</td>\n    </tr>\n    <tr>\n      <th>3379</th>\n      <td>[-13.7119, 80.6494]</td>\n      <td>2021-04-17T06:00:00+00:00</td>\n      <td>max_pressure</td>\n      <td>4313</td>\n      <td>day</td>\n      <td>1033.1</td>\n    </tr>\n    <tr>\n      <th>3380</th>\n      <td>[-13.7119, 80.6494]</td>\n      <td>2021-04-17T06:00:00+00:00</td>\n      <td>max_relative_hum</td>\n      <td>4313</td>\n      <td>day</td>\n      <td>69.0</td>\n    </tr>\n    <tr>\n      <th>3381</th>\n      <td>[-13.7119, 80.6494]</td>\n      <td>2021-04-17T06:00:00+00:00</td>\n      <td>max_temp_w_date</td>\n      <td>4313</td>\n      <td>day</td>\n      <td>-17.1</td>\n    </tr>\n    <tr>\n      <th>3382</th>\n      <td>[-13.7119, 80.6494]</td>\n      <td>2021-04-17T06:00:00+00:00</td>\n      <td>max_wind_speed_10min</td>\n      <td>4313</td>\n      <td>day</td>\n      <td>5.7</td>\n    </tr>\n    <tr>\n      <th>3384</th>\n      <td>[-13.7119, 80.6494]</td>\n      <td>2021-04-17T06:00:00+00:00</td>\n      <td>max_wind_speed_3sec</td>\n      <td>4313</td>\n      <td>day</td>\n      <td>7.2</td>\n    </tr>\n    <tr>\n      <th>3386</th>\n      <td>[-13.7119, 80.6494]</td>\n      <td>2021-04-17T06:00:00+00:00</td>\n      <td>mean_pressure</td>\n      <td>4313</td>\n      <td>day</td>\n      <td>1031.6</td>\n    </tr>\n    <tr>\n      <th>3388</th>\n      <td>[-13.7119, 80.6494]</td>\n      <td>2021-04-17T06:00:00+00:00</td>\n      <td>mean_relative_hum</td>\n      <td>4313</td>\n      <td>day</td>\n      <td>62.1</td>\n    </tr>\n    <tr>\n      <th>3390</th>\n      <td>[-13.7119, 80.6494]</td>\n      <td>2021-04-17T06:00:00+00:00</td>\n      <td>mean_temp</td>\n      <td>4313</td>\n      <td>day</td>\n      <td>-20.4</td>\n    </tr>\n    <tr>\n      <th>3391</th>\n      <td>[-13.7119, 80.6494]</td>\n      <td>2021-04-17T06:00:00+00:00</td>\n      <td>mean_vapour_pressure</td>\n      <td>4313</td>\n      <td>day</td>\n      <td>0.6</td>\n    </tr>\n  </tbody>\n</table>\n</div>"
     },
     "execution_count": 31,
     "metadata": {},
     "output_type": "execute_result"
    }
   ],
   "source": [
    "df_day.head(10)"
   ],
   "metadata": {
    "collapsed": false,
    "pycharm": {
     "name": "#%%\n"
    }
   }
  },
  {
   "cell_type": "code",
   "execution_count": 29,
   "outputs": [
    {
     "ename": "ValueError",
     "evalue": "Index contains duplicate entries, cannot reshape",
     "output_type": "error",
     "traceback": [
      "\u001B[0;31m---------------------------------------------------------------------------\u001B[0m",
      "\u001B[0;31mValueError\u001B[0m                                Traceback (most recent call last)",
      "Input \u001B[0;32mIn [29]\u001B[0m, in \u001B[0;36m<cell line: 1>\u001B[0;34m()\u001B[0m\n\u001B[0;32m----> 1\u001B[0m \u001B[43mdf_day\u001B[49m\u001B[38;5;241;43m.\u001B[39;49m\u001B[43mpivot\u001B[49m\u001B[43m(\u001B[49m\u001B[43mindex\u001B[49m\u001B[38;5;241;43m=\u001B[39;49m\u001B[43m[\u001B[49m\u001B[38;5;124;43m\"\u001B[39;49m\u001B[38;5;124;43mto\u001B[39;49m\u001B[38;5;124;43m\"\u001B[39;49m\u001B[43m]\u001B[49m\u001B[43m,\u001B[49m\u001B[43mcolumns\u001B[49m\u001B[38;5;241;43m=\u001B[39;49m\u001B[38;5;124;43m\"\u001B[39;49m\u001B[38;5;124;43mparameterId\u001B[39;49m\u001B[38;5;124;43m\"\u001B[39;49m\u001B[43m,\u001B[49m\u001B[43m \u001B[49m\u001B[43mvalues\u001B[49m\u001B[38;5;241;43m=\u001B[39;49m\u001B[38;5;124;43m\"\u001B[39;49m\u001B[38;5;124;43mvalue\u001B[39;49m\u001B[38;5;124;43m\"\u001B[39;49m\u001B[43m)\u001B[49m\n",
      "File \u001B[0;32m/opt/anaconda3/envs/AppML/lib/python3.8/site-packages/pandas/core/frame.py:7870\u001B[0m, in \u001B[0;36mDataFrame.pivot\u001B[0;34m(self, index, columns, values)\u001B[0m\n\u001B[1;32m   7865\u001B[0m \u001B[38;5;129m@Substitution\u001B[39m(\u001B[38;5;124m\"\u001B[39m\u001B[38;5;124m\"\u001B[39m)\n\u001B[1;32m   7866\u001B[0m \u001B[38;5;129m@Appender\u001B[39m(_shared_docs[\u001B[38;5;124m\"\u001B[39m\u001B[38;5;124mpivot\u001B[39m\u001B[38;5;124m\"\u001B[39m])\n\u001B[1;32m   7867\u001B[0m \u001B[38;5;28;01mdef\u001B[39;00m \u001B[38;5;21mpivot\u001B[39m(\u001B[38;5;28mself\u001B[39m, index\u001B[38;5;241m=\u001B[39m\u001B[38;5;28;01mNone\u001B[39;00m, columns\u001B[38;5;241m=\u001B[39m\u001B[38;5;28;01mNone\u001B[39;00m, values\u001B[38;5;241m=\u001B[39m\u001B[38;5;28;01mNone\u001B[39;00m) \u001B[38;5;241m-\u001B[39m\u001B[38;5;241m>\u001B[39m DataFrame:\n\u001B[1;32m   7868\u001B[0m     \u001B[38;5;28;01mfrom\u001B[39;00m \u001B[38;5;21;01mpandas\u001B[39;00m\u001B[38;5;21;01m.\u001B[39;00m\u001B[38;5;21;01mcore\u001B[39;00m\u001B[38;5;21;01m.\u001B[39;00m\u001B[38;5;21;01mreshape\u001B[39;00m\u001B[38;5;21;01m.\u001B[39;00m\u001B[38;5;21;01mpivot\u001B[39;00m \u001B[38;5;28;01mimport\u001B[39;00m pivot\n\u001B[0;32m-> 7870\u001B[0m     \u001B[38;5;28;01mreturn\u001B[39;00m \u001B[43mpivot\u001B[49m\u001B[43m(\u001B[49m\u001B[38;5;28;43mself\u001B[39;49m\u001B[43m,\u001B[49m\u001B[43m \u001B[49m\u001B[43mindex\u001B[49m\u001B[38;5;241;43m=\u001B[39;49m\u001B[43mindex\u001B[49m\u001B[43m,\u001B[49m\u001B[43m \u001B[49m\u001B[43mcolumns\u001B[49m\u001B[38;5;241;43m=\u001B[39;49m\u001B[43mcolumns\u001B[49m\u001B[43m,\u001B[49m\u001B[43m \u001B[49m\u001B[43mvalues\u001B[49m\u001B[38;5;241;43m=\u001B[39;49m\u001B[43mvalues\u001B[49m\u001B[43m)\u001B[49m\n",
      "File \u001B[0;32m/opt/anaconda3/envs/AppML/lib/python3.8/site-packages/pandas/core/reshape/pivot.py:520\u001B[0m, in \u001B[0;36mpivot\u001B[0;34m(data, index, columns, values)\u001B[0m\n\u001B[1;32m    518\u001B[0m     \u001B[38;5;28;01melse\u001B[39;00m:\n\u001B[1;32m    519\u001B[0m         indexed \u001B[38;5;241m=\u001B[39m data\u001B[38;5;241m.\u001B[39m_constructor_sliced(data[values]\u001B[38;5;241m.\u001B[39m_values, index\u001B[38;5;241m=\u001B[39mmultiindex)\n\u001B[0;32m--> 520\u001B[0m \u001B[38;5;28;01mreturn\u001B[39;00m \u001B[43mindexed\u001B[49m\u001B[38;5;241;43m.\u001B[39;49m\u001B[43munstack\u001B[49m\u001B[43m(\u001B[49m\u001B[43mcolumns_listlike\u001B[49m\u001B[43m)\u001B[49m\n",
      "File \u001B[0;32m/opt/anaconda3/envs/AppML/lib/python3.8/site-packages/pandas/core/series.py:4157\u001B[0m, in \u001B[0;36mSeries.unstack\u001B[0;34m(self, level, fill_value)\u001B[0m\n\u001B[1;32m   4114\u001B[0m \u001B[38;5;124;03m\"\"\"\u001B[39;00m\n\u001B[1;32m   4115\u001B[0m \u001B[38;5;124;03mUnstack, also known as pivot, Series with MultiIndex to produce DataFrame.\u001B[39;00m\n\u001B[1;32m   4116\u001B[0m \n\u001B[0;32m   (...)\u001B[0m\n\u001B[1;32m   4153\u001B[0m \u001B[38;5;124;03mb    2    4\u001B[39;00m\n\u001B[1;32m   4154\u001B[0m \u001B[38;5;124;03m\"\"\"\u001B[39;00m\n\u001B[1;32m   4155\u001B[0m \u001B[38;5;28;01mfrom\u001B[39;00m \u001B[38;5;21;01mpandas\u001B[39;00m\u001B[38;5;21;01m.\u001B[39;00m\u001B[38;5;21;01mcore\u001B[39;00m\u001B[38;5;21;01m.\u001B[39;00m\u001B[38;5;21;01mreshape\u001B[39;00m\u001B[38;5;21;01m.\u001B[39;00m\u001B[38;5;21;01mreshape\u001B[39;00m \u001B[38;5;28;01mimport\u001B[39;00m unstack\n\u001B[0;32m-> 4157\u001B[0m \u001B[38;5;28;01mreturn\u001B[39;00m \u001B[43munstack\u001B[49m\u001B[43m(\u001B[49m\u001B[38;5;28;43mself\u001B[39;49m\u001B[43m,\u001B[49m\u001B[43m \u001B[49m\u001B[43mlevel\u001B[49m\u001B[43m,\u001B[49m\u001B[43m \u001B[49m\u001B[43mfill_value\u001B[49m\u001B[43m)\u001B[49m\n",
      "File \u001B[0;32m/opt/anaconda3/envs/AppML/lib/python3.8/site-packages/pandas/core/reshape/reshape.py:491\u001B[0m, in \u001B[0;36munstack\u001B[0;34m(obj, level, fill_value)\u001B[0m\n\u001B[1;32m    489\u001B[0m \u001B[38;5;28;01mif\u001B[39;00m is_1d_only_ea_dtype(obj\u001B[38;5;241m.\u001B[39mdtype):\n\u001B[1;32m    490\u001B[0m     \u001B[38;5;28;01mreturn\u001B[39;00m _unstack_extension_series(obj, level, fill_value)\n\u001B[0;32m--> 491\u001B[0m unstacker \u001B[38;5;241m=\u001B[39m \u001B[43m_Unstacker\u001B[49m\u001B[43m(\u001B[49m\n\u001B[1;32m    492\u001B[0m \u001B[43m    \u001B[49m\u001B[43mobj\u001B[49m\u001B[38;5;241;43m.\u001B[39;49m\u001B[43mindex\u001B[49m\u001B[43m,\u001B[49m\u001B[43m \u001B[49m\u001B[43mlevel\u001B[49m\u001B[38;5;241;43m=\u001B[39;49m\u001B[43mlevel\u001B[49m\u001B[43m,\u001B[49m\u001B[43m \u001B[49m\u001B[43mconstructor\u001B[49m\u001B[38;5;241;43m=\u001B[39;49m\u001B[43mobj\u001B[49m\u001B[38;5;241;43m.\u001B[39;49m\u001B[43m_constructor_expanddim\u001B[49m\n\u001B[1;32m    493\u001B[0m \u001B[43m\u001B[49m\u001B[43m)\u001B[49m\n\u001B[1;32m    494\u001B[0m \u001B[38;5;28;01mreturn\u001B[39;00m unstacker\u001B[38;5;241m.\u001B[39mget_result(\n\u001B[1;32m    495\u001B[0m     obj\u001B[38;5;241m.\u001B[39m_values, value_columns\u001B[38;5;241m=\u001B[39m\u001B[38;5;28;01mNone\u001B[39;00m, fill_value\u001B[38;5;241m=\u001B[39mfill_value\n\u001B[1;32m    496\u001B[0m )\n",
      "File \u001B[0;32m/opt/anaconda3/envs/AppML/lib/python3.8/site-packages/pandas/core/reshape/reshape.py:140\u001B[0m, in \u001B[0;36m_Unstacker.__init__\u001B[0;34m(self, index, level, constructor)\u001B[0m\n\u001B[1;32m    133\u001B[0m \u001B[38;5;28;01mif\u001B[39;00m num_cells \u001B[38;5;241m>\u001B[39m np\u001B[38;5;241m.\u001B[39miinfo(np\u001B[38;5;241m.\u001B[39mint32)\u001B[38;5;241m.\u001B[39mmax:\n\u001B[1;32m    134\u001B[0m     warnings\u001B[38;5;241m.\u001B[39mwarn(\n\u001B[1;32m    135\u001B[0m         \u001B[38;5;124mf\u001B[39m\u001B[38;5;124m\"\u001B[39m\u001B[38;5;124mThe following operation may generate \u001B[39m\u001B[38;5;132;01m{\u001B[39;00mnum_cells\u001B[38;5;132;01m}\u001B[39;00m\u001B[38;5;124m cells \u001B[39m\u001B[38;5;124m\"\u001B[39m\n\u001B[1;32m    136\u001B[0m         \u001B[38;5;124mf\u001B[39m\u001B[38;5;124m\"\u001B[39m\u001B[38;5;124min the resulting pandas object.\u001B[39m\u001B[38;5;124m\"\u001B[39m,\n\u001B[1;32m    137\u001B[0m         PerformanceWarning,\n\u001B[1;32m    138\u001B[0m     )\n\u001B[0;32m--> 140\u001B[0m \u001B[38;5;28;43mself\u001B[39;49m\u001B[38;5;241;43m.\u001B[39;49m\u001B[43m_make_selectors\u001B[49m\u001B[43m(\u001B[49m\u001B[43m)\u001B[49m\n",
      "File \u001B[0;32m/opt/anaconda3/envs/AppML/lib/python3.8/site-packages/pandas/core/reshape/reshape.py:192\u001B[0m, in \u001B[0;36m_Unstacker._make_selectors\u001B[0;34m(self)\u001B[0m\n\u001B[1;32m    189\u001B[0m mask\u001B[38;5;241m.\u001B[39mput(selector, \u001B[38;5;28;01mTrue\u001B[39;00m)\n\u001B[1;32m    191\u001B[0m \u001B[38;5;28;01mif\u001B[39;00m mask\u001B[38;5;241m.\u001B[39msum() \u001B[38;5;241m<\u001B[39m \u001B[38;5;28mlen\u001B[39m(\u001B[38;5;28mself\u001B[39m\u001B[38;5;241m.\u001B[39mindex):\n\u001B[0;32m--> 192\u001B[0m     \u001B[38;5;28;01mraise\u001B[39;00m \u001B[38;5;167;01mValueError\u001B[39;00m(\u001B[38;5;124m\"\u001B[39m\u001B[38;5;124mIndex contains duplicate entries, cannot reshape\u001B[39m\u001B[38;5;124m\"\u001B[39m)\n\u001B[1;32m    194\u001B[0m \u001B[38;5;28mself\u001B[39m\u001B[38;5;241m.\u001B[39mgroup_index \u001B[38;5;241m=\u001B[39m comp_index\n\u001B[1;32m    195\u001B[0m \u001B[38;5;28mself\u001B[39m\u001B[38;5;241m.\u001B[39mmask \u001B[38;5;241m=\u001B[39m mask\n",
      "\u001B[0;31mValueError\u001B[0m: Index contains duplicate entries, cannot reshape"
     ]
    }
   ],
   "source": [
    "df_day.pivot(index=[\"to\"],columns=\"parameterId\", values=\"value\")"
   ],
   "metadata": {
    "collapsed": false,
    "pycharm": {
     "name": "#%%\n"
    }
   }
  },
  {
   "cell_type": "code",
   "execution_count": null,
   "outputs": [],
   "source": [
    "df_month.pivot(index=[\"to\",\"coordinates\"],columns=\"parameterId\", values=\"value\")"
   ],
   "metadata": {
    "collapsed": false,
    "pycharm": {
     "name": "#%%\n"
    }
   }
  },
  {
   "cell_type": "code",
   "execution_count": null,
   "outputs": [],
   "source": [
    "df_year.pivot(index=[\"to\",\"coordinates\"],columns=\"parameterId\", values=\"value\")"
   ],
   "metadata": {
    "collapsed": false,
    "pycharm": {
     "name": "#%%\n"
    }
   }
  },
  {
   "cell_type": "code",
   "execution_count": 4,
   "outputs": [],
   "source": [
    "import lightgbm as lgb"
   ],
   "metadata": {
    "collapsed": false,
    "pycharm": {
     "name": "#%%\n"
    }
   }
  },
  {
   "cell_type": "code",
   "execution_count": null,
   "outputs": [],
   "source": [],
   "metadata": {
    "collapsed": false,
    "pycharm": {
     "name": "#%%\n"
    }
   }
  }
 ],
 "metadata": {
  "kernelspec": {
   "display_name": "Python 3",
   "language": "python",
   "name": "python3"
  },
  "language_info": {
   "codemirror_mode": {
    "name": "ipython",
    "version": 2
   },
   "file_extension": ".py",
   "mimetype": "text/x-python",
   "name": "python",
   "nbconvert_exporter": "python",
   "pygments_lexer": "ipython2",
   "version": "2.7.6"
  }
 },
 "nbformat": 4,
 "nbformat_minor": 0
}