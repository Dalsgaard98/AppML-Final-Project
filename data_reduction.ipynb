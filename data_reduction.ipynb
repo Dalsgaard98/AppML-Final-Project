{
 "cells": [
  {
   "cell_type": "code",
   "execution_count": 13,
   "metadata": {
    "collapsed": true
   },
   "outputs": [],
   "source": [
    "import pandas as pd"
   ]
  },
  {
   "cell_type": "code",
   "execution_count": 2,
   "outputs": [],
   "source": [
    "df = pd.read_parquet(\"stations_processed_compressed.parquet.snappy\")"
   ],
   "metadata": {
    "collapsed": false,
    "pycharm": {
     "name": "#%%\n"
    }
   }
  },
  {
   "cell_type": "code",
   "execution_count": 3,
   "outputs": [
    {
     "data": {
      "text/plain": "                  coordinates                         to  \\\n52258837     [9.7872, 55.868]  2011-01-01T00:00:00+00:00   \n52262637    [12.1841, 54.879]  2011-01-01T00:00:00+00:00   \n52262638   [11.8605, 55.2075]  2011-01-01T00:00:00+00:00   \n52262650    [9.8882, 55.2444]  2011-01-01T00:00:00+00:00   \n52262665   [11.3879, 55.3224]  2011-01-01T00:00:00+00:00   \n...                       ...                        ...   \n54407442  [-18.6681, 76.7694]  2023-01-01T06:00:00+00:00   \n54407454  [-51.7308, 64.1833]  2023-01-01T06:00:00+00:00   \n54407459  [-57.7231, 74.0606]  2023-01-01T06:00:00+00:00   \n54407424  [-50.4058, 62.5789]  2023-01-01T06:00:00+00:00   \n54407183  [-46.0489, 60.7156]  2023-01-01T06:00:00+00:00   \n\n                   parameterId  stationId timeResolution  value  \n52258837         leaf_moisture       6102           hour    0.0  \n52262637     mean_relative_hum       6147           hour   94.8  \n52262638            acc_precip       6154           hour    0.0  \n52262650  max_wind_speed_10min       6123           hour   11.7  \n52262665         mean_wind_dir       6135           hour  260.0  \n...                        ...        ...            ...    ...  \n54407442              min_temp       4320           year  -37.1  \n54407454   mean_daily_min_temp       4250           year   -9.2  \n54407459          no_cold_days       4208           year  129.0  \n54407424          no_cold_days       4253           year   44.0  \n54407183  mean_vapour_pressure       4272           year    5.2  \n\n[90368594 rows x 6 columns]",
      "text/html": "<div>\n<style scoped>\n    .dataframe tbody tr th:only-of-type {\n        vertical-align: middle;\n    }\n\n    .dataframe tbody tr th {\n        vertical-align: top;\n    }\n\n    .dataframe thead th {\n        text-align: right;\n    }\n</style>\n<table border=\"1\" class=\"dataframe\">\n  <thead>\n    <tr style=\"text-align: right;\">\n      <th></th>\n      <th>coordinates</th>\n      <th>to</th>\n      <th>parameterId</th>\n      <th>stationId</th>\n      <th>timeResolution</th>\n      <th>value</th>\n    </tr>\n  </thead>\n  <tbody>\n    <tr>\n      <th>52258837</th>\n      <td>[9.7872, 55.868]</td>\n      <td>2011-01-01T00:00:00+00:00</td>\n      <td>leaf_moisture</td>\n      <td>6102</td>\n      <td>hour</td>\n      <td>0.0</td>\n    </tr>\n    <tr>\n      <th>52262637</th>\n      <td>[12.1841, 54.879]</td>\n      <td>2011-01-01T00:00:00+00:00</td>\n      <td>mean_relative_hum</td>\n      <td>6147</td>\n      <td>hour</td>\n      <td>94.8</td>\n    </tr>\n    <tr>\n      <th>52262638</th>\n      <td>[11.8605, 55.2075]</td>\n      <td>2011-01-01T00:00:00+00:00</td>\n      <td>acc_precip</td>\n      <td>6154</td>\n      <td>hour</td>\n      <td>0.0</td>\n    </tr>\n    <tr>\n      <th>52262650</th>\n      <td>[9.8882, 55.2444]</td>\n      <td>2011-01-01T00:00:00+00:00</td>\n      <td>max_wind_speed_10min</td>\n      <td>6123</td>\n      <td>hour</td>\n      <td>11.7</td>\n    </tr>\n    <tr>\n      <th>52262665</th>\n      <td>[11.3879, 55.3224]</td>\n      <td>2011-01-01T00:00:00+00:00</td>\n      <td>mean_wind_dir</td>\n      <td>6135</td>\n      <td>hour</td>\n      <td>260.0</td>\n    </tr>\n    <tr>\n      <th>...</th>\n      <td>...</td>\n      <td>...</td>\n      <td>...</td>\n      <td>...</td>\n      <td>...</td>\n      <td>...</td>\n    </tr>\n    <tr>\n      <th>54407442</th>\n      <td>[-18.6681, 76.7694]</td>\n      <td>2023-01-01T06:00:00+00:00</td>\n      <td>min_temp</td>\n      <td>4320</td>\n      <td>year</td>\n      <td>-37.1</td>\n    </tr>\n    <tr>\n      <th>54407454</th>\n      <td>[-51.7308, 64.1833]</td>\n      <td>2023-01-01T06:00:00+00:00</td>\n      <td>mean_daily_min_temp</td>\n      <td>4250</td>\n      <td>year</td>\n      <td>-9.2</td>\n    </tr>\n    <tr>\n      <th>54407459</th>\n      <td>[-57.7231, 74.0606]</td>\n      <td>2023-01-01T06:00:00+00:00</td>\n      <td>no_cold_days</td>\n      <td>4208</td>\n      <td>year</td>\n      <td>129.0</td>\n    </tr>\n    <tr>\n      <th>54407424</th>\n      <td>[-50.4058, 62.5789]</td>\n      <td>2023-01-01T06:00:00+00:00</td>\n      <td>no_cold_days</td>\n      <td>4253</td>\n      <td>year</td>\n      <td>44.0</td>\n    </tr>\n    <tr>\n      <th>54407183</th>\n      <td>[-46.0489, 60.7156]</td>\n      <td>2023-01-01T06:00:00+00:00</td>\n      <td>mean_vapour_pressure</td>\n      <td>4272</td>\n      <td>year</td>\n      <td>5.2</td>\n    </tr>\n  </tbody>\n</table>\n<p>90368594 rows × 6 columns</p>\n</div>"
     },
     "execution_count": 3,
     "metadata": {},
     "output_type": "execute_result"
    }
   ],
   "source": [
    "df"
   ],
   "metadata": {
    "collapsed": false,
    "pycharm": {
     "name": "#%%\n"
    }
   }
  },
  {
   "cell_type": "code",
   "execution_count": 4,
   "outputs": [],
   "source": [
    "df.sort_values(by=[\"to\",\"coordinates\",\"parameterId\"],inplace=True)"
   ],
   "metadata": {
    "collapsed": false,
    "pycharm": {
     "name": "#%%\n"
    }
   }
  },
  {
   "cell_type": "code",
   "execution_count": 10,
   "outputs": [],
   "source": [
    "df.reset_index(drop=True,inplace=True)"
   ],
   "metadata": {
    "collapsed": false,
    "pycharm": {
     "name": "#%%\n"
    }
   }
  },
  {
   "cell_type": "code",
   "execution_count": 11,
   "outputs": [
    {
     "data": {
      "text/plain": "           coordinates                         to           parameterId  \\\n0   [10.0929, 56.5604]  2011-01-01T00:00:00+00:00       max_temp_w_date   \n1   [10.0929, 56.5604]  2011-01-01T00:00:00+00:00  max_wind_speed_10min   \n2   [10.0929, 56.5604]  2011-01-01T00:00:00+00:00   max_wind_speed_3sec   \n3   [10.0929, 56.5604]  2011-01-01T00:00:00+00:00         mean_pressure   \n4   [10.0929, 56.5604]  2011-01-01T00:00:00+00:00     mean_relative_hum   \n..                 ...                        ...                   ...   \n95  [10.5693, 55.0144]  2011-01-01T00:00:00+00:00       max_temp_w_date   \n96  [10.5693, 55.0144]  2011-01-01T00:00:00+00:00  max_wind_speed_10min   \n97  [10.5693, 55.0144]  2011-01-01T00:00:00+00:00   max_wind_speed_3sec   \n98  [10.5693, 55.0144]  2011-01-01T00:00:00+00:00         mean_pressure   \n99  [10.5693, 55.0144]  2011-01-01T00:00:00+00:00     mean_relative_hum   \n\n    stationId timeResolution   value  \n0        6049           hour     4.0  \n1        6049           hour    18.7  \n2        6049           hour    27.4  \n3        6049           hour  1001.3  \n4        6049           hour    89.2  \n..        ...            ...     ...  \n95       6124           hour     3.1  \n96       6124           hour    11.4  \n97       6124           hour    17.3  \n98       6124           hour  1008.7  \n99       6124           hour    93.5  \n\n[100 rows x 6 columns]",
      "text/html": "<div>\n<style scoped>\n    .dataframe tbody tr th:only-of-type {\n        vertical-align: middle;\n    }\n\n    .dataframe tbody tr th {\n        vertical-align: top;\n    }\n\n    .dataframe thead th {\n        text-align: right;\n    }\n</style>\n<table border=\"1\" class=\"dataframe\">\n  <thead>\n    <tr style=\"text-align: right;\">\n      <th></th>\n      <th>coordinates</th>\n      <th>to</th>\n      <th>parameterId</th>\n      <th>stationId</th>\n      <th>timeResolution</th>\n      <th>value</th>\n    </tr>\n  </thead>\n  <tbody>\n    <tr>\n      <th>0</th>\n      <td>[10.0929, 56.5604]</td>\n      <td>2011-01-01T00:00:00+00:00</td>\n      <td>max_temp_w_date</td>\n      <td>6049</td>\n      <td>hour</td>\n      <td>4.0</td>\n    </tr>\n    <tr>\n      <th>1</th>\n      <td>[10.0929, 56.5604]</td>\n      <td>2011-01-01T00:00:00+00:00</td>\n      <td>max_wind_speed_10min</td>\n      <td>6049</td>\n      <td>hour</td>\n      <td>18.7</td>\n    </tr>\n    <tr>\n      <th>2</th>\n      <td>[10.0929, 56.5604]</td>\n      <td>2011-01-01T00:00:00+00:00</td>\n      <td>max_wind_speed_3sec</td>\n      <td>6049</td>\n      <td>hour</td>\n      <td>27.4</td>\n    </tr>\n    <tr>\n      <th>3</th>\n      <td>[10.0929, 56.5604]</td>\n      <td>2011-01-01T00:00:00+00:00</td>\n      <td>mean_pressure</td>\n      <td>6049</td>\n      <td>hour</td>\n      <td>1001.3</td>\n    </tr>\n    <tr>\n      <th>4</th>\n      <td>[10.0929, 56.5604]</td>\n      <td>2011-01-01T00:00:00+00:00</td>\n      <td>mean_relative_hum</td>\n      <td>6049</td>\n      <td>hour</td>\n      <td>89.2</td>\n    </tr>\n    <tr>\n      <th>...</th>\n      <td>...</td>\n      <td>...</td>\n      <td>...</td>\n      <td>...</td>\n      <td>...</td>\n      <td>...</td>\n    </tr>\n    <tr>\n      <th>95</th>\n      <td>[10.5693, 55.0144]</td>\n      <td>2011-01-01T00:00:00+00:00</td>\n      <td>max_temp_w_date</td>\n      <td>6124</td>\n      <td>hour</td>\n      <td>3.1</td>\n    </tr>\n    <tr>\n      <th>96</th>\n      <td>[10.5693, 55.0144]</td>\n      <td>2011-01-01T00:00:00+00:00</td>\n      <td>max_wind_speed_10min</td>\n      <td>6124</td>\n      <td>hour</td>\n      <td>11.4</td>\n    </tr>\n    <tr>\n      <th>97</th>\n      <td>[10.5693, 55.0144]</td>\n      <td>2011-01-01T00:00:00+00:00</td>\n      <td>max_wind_speed_3sec</td>\n      <td>6124</td>\n      <td>hour</td>\n      <td>17.3</td>\n    </tr>\n    <tr>\n      <th>98</th>\n      <td>[10.5693, 55.0144]</td>\n      <td>2011-01-01T00:00:00+00:00</td>\n      <td>mean_pressure</td>\n      <td>6124</td>\n      <td>hour</td>\n      <td>1008.7</td>\n    </tr>\n    <tr>\n      <th>99</th>\n      <td>[10.5693, 55.0144]</td>\n      <td>2011-01-01T00:00:00+00:00</td>\n      <td>mean_relative_hum</td>\n      <td>6124</td>\n      <td>hour</td>\n      <td>93.5</td>\n    </tr>\n  </tbody>\n</table>\n<p>100 rows × 6 columns</p>\n</div>"
     },
     "execution_count": 11,
     "metadata": {},
     "output_type": "execute_result"
    }
   ],
   "source": [
    "df.head(100)"
   ],
   "metadata": {
    "collapsed": false,
    "pycharm": {
     "name": "#%%\n"
    }
   }
  },
  {
   "cell_type": "code",
   "execution_count": 12,
   "outputs": [],
   "source": [
    "for i in range(10):\n",
    "    df[int(len(df)/10)*i:int(len(df)/10)*(i+1)].to_csv(\"clean split data/stations_clean_\"+str(i)+\".csv\")"
   ],
   "metadata": {
    "collapsed": false,
    "pycharm": {
     "name": "#%%\n"
    }
   }
  },
  {
   "cell_type": "code",
   "execution_count": 9,
   "outputs": [
    {
     "data": {
      "text/plain": "coordinates       18012\nto                    0\nparameterId           0\nstationId             0\ntimeResolution        0\nvalue                 0\ndtype: int64"
     },
     "execution_count": 9,
     "metadata": {},
     "output_type": "execute_result"
    }
   ],
   "source": [
    "df.isna().sum()"
   ],
   "metadata": {
    "collapsed": false,
    "pycharm": {
     "name": "#%%\n"
    }
   }
  },
  {
   "cell_type": "code",
   "execution_count": 8,
   "outputs": [],
   "source": [
    "df_hour = df.loc[df[\"timeResolution\"]==\"hour\"]\n",
    "df_day = df.loc[df[\"timeResolution\"]==\"day\"]\n",
    "df_month = df.loc[df[\"timeResolution\"]==\"month\"]\n",
    "df_year = df.loc[df[\"timeResolution\"]==\"year\"]"
   ],
   "metadata": {
    "collapsed": false,
    "pycharm": {
     "name": "#%%\n"
    }
   }
  },
  {
   "cell_type": "code",
   "execution_count": 18,
   "outputs": [],
   "source": [
    "df_hour_pivot = df_hour.pivot(index=[\"to\",\"stationId\"],columns=[\"parameterId\"], values=\"value\")"
   ],
   "metadata": {
    "collapsed": false,
    "pycharm": {
     "name": "#%%\n"
    }
   }
  },
  {
   "cell_type": "code",
   "execution_count": 19,
   "outputs": [
    {
     "data": {
      "text/plain": "parameterId\nacc_precip                       3094123\nacc_precip_past12h              13457019\nacc_precip_past24h              13471033\nbright_sunshine                 10895206\nleaf_moisture                   11965744\nmax_temp_12h                    13442386\nmax_temp_w_date                  7707617\nmax_wind_speed_10min             8534651\nmax_wind_speed_3sec              7125918\nmean_cloud_cover                13137165\nmean_pressure                    7369590\nmean_radiation                  10501195\nmean_relative_hum                6616923\nmean_temp                        6699684\nmean_wind_dir                    7135154\nmean_wind_dir_min0              12083692\nmean_wind_speed                  7134487\nmin_temp                         7707685\nmin_temperature_12h             13442384\ntemp_grass                      11622350\ntemp_soil_10                    11890226\ntemp_soil_30                    11967919\nvapour_pressure_deficit_mean     8216999\ndtype: int64"
     },
     "execution_count": 19,
     "metadata": {},
     "output_type": "execute_result"
    }
   ],
   "source": [
    "df_hour_pivot.isna().sum()"
   ],
   "metadata": {
    "collapsed": false,
    "pycharm": {
     "name": "#%%\n"
    }
   }
  },
  {
   "cell_type": "code",
   "execution_count": 14,
   "outputs": [
    {
     "ename": "ValueError",
     "evalue": "Index contains duplicate entries, cannot reshape",
     "output_type": "error",
     "traceback": [
      "\u001B[0;31m---------------------------------------------------------------------------\u001B[0m",
      "\u001B[0;31mValueError\u001B[0m                                Traceback (most recent call last)",
      "Input \u001B[0;32mIn [14]\u001B[0m, in \u001B[0;36m<cell line: 1>\u001B[0;34m()\u001B[0m\n\u001B[0;32m----> 1\u001B[0m \u001B[43mdf_day\u001B[49m\u001B[38;5;241;43m.\u001B[39;49m\u001B[43mpivot\u001B[49m\u001B[43m(\u001B[49m\u001B[43mindex\u001B[49m\u001B[38;5;241;43m=\u001B[39;49m\u001B[43m[\u001B[49m\u001B[38;5;124;43m\"\u001B[39;49m\u001B[38;5;124;43mto\u001B[39;49m\u001B[38;5;124;43m\"\u001B[39;49m\u001B[43m]\u001B[49m\u001B[43m,\u001B[49m\u001B[43mcolumns\u001B[49m\u001B[38;5;241;43m=\u001B[39;49m\u001B[38;5;124;43m\"\u001B[39;49m\u001B[38;5;124;43mparameterId\u001B[39;49m\u001B[38;5;124;43m\"\u001B[39;49m\u001B[43m,\u001B[49m\u001B[43m \u001B[49m\u001B[43mvalues\u001B[49m\u001B[38;5;241;43m=\u001B[39;49m\u001B[38;5;124;43m\"\u001B[39;49m\u001B[38;5;124;43mvalue\u001B[39;49m\u001B[38;5;124;43m\"\u001B[39;49m\u001B[43m)\u001B[49m\n",
      "File \u001B[0;32m/opt/anaconda3/envs/AppML/lib/python3.8/site-packages/pandas/core/frame.py:7870\u001B[0m, in \u001B[0;36mDataFrame.pivot\u001B[0;34m(self, index, columns, values)\u001B[0m\n\u001B[1;32m   7865\u001B[0m \u001B[38;5;129m@Substitution\u001B[39m(\u001B[38;5;124m\"\u001B[39m\u001B[38;5;124m\"\u001B[39m)\n\u001B[1;32m   7866\u001B[0m \u001B[38;5;129m@Appender\u001B[39m(_shared_docs[\u001B[38;5;124m\"\u001B[39m\u001B[38;5;124mpivot\u001B[39m\u001B[38;5;124m\"\u001B[39m])\n\u001B[1;32m   7867\u001B[0m \u001B[38;5;28;01mdef\u001B[39;00m \u001B[38;5;21mpivot\u001B[39m(\u001B[38;5;28mself\u001B[39m, index\u001B[38;5;241m=\u001B[39m\u001B[38;5;28;01mNone\u001B[39;00m, columns\u001B[38;5;241m=\u001B[39m\u001B[38;5;28;01mNone\u001B[39;00m, values\u001B[38;5;241m=\u001B[39m\u001B[38;5;28;01mNone\u001B[39;00m) \u001B[38;5;241m-\u001B[39m\u001B[38;5;241m>\u001B[39m DataFrame:\n\u001B[1;32m   7868\u001B[0m     \u001B[38;5;28;01mfrom\u001B[39;00m \u001B[38;5;21;01mpandas\u001B[39;00m\u001B[38;5;21;01m.\u001B[39;00m\u001B[38;5;21;01mcore\u001B[39;00m\u001B[38;5;21;01m.\u001B[39;00m\u001B[38;5;21;01mreshape\u001B[39;00m\u001B[38;5;21;01m.\u001B[39;00m\u001B[38;5;21;01mpivot\u001B[39;00m \u001B[38;5;28;01mimport\u001B[39;00m pivot\n\u001B[0;32m-> 7870\u001B[0m     \u001B[38;5;28;01mreturn\u001B[39;00m \u001B[43mpivot\u001B[49m\u001B[43m(\u001B[49m\u001B[38;5;28;43mself\u001B[39;49m\u001B[43m,\u001B[49m\u001B[43m \u001B[49m\u001B[43mindex\u001B[49m\u001B[38;5;241;43m=\u001B[39;49m\u001B[43mindex\u001B[49m\u001B[43m,\u001B[49m\u001B[43m \u001B[49m\u001B[43mcolumns\u001B[49m\u001B[38;5;241;43m=\u001B[39;49m\u001B[43mcolumns\u001B[49m\u001B[43m,\u001B[49m\u001B[43m \u001B[49m\u001B[43mvalues\u001B[49m\u001B[38;5;241;43m=\u001B[39;49m\u001B[43mvalues\u001B[49m\u001B[43m)\u001B[49m\n",
      "File \u001B[0;32m/opt/anaconda3/envs/AppML/lib/python3.8/site-packages/pandas/core/reshape/pivot.py:520\u001B[0m, in \u001B[0;36mpivot\u001B[0;34m(data, index, columns, values)\u001B[0m\n\u001B[1;32m    518\u001B[0m     \u001B[38;5;28;01melse\u001B[39;00m:\n\u001B[1;32m    519\u001B[0m         indexed \u001B[38;5;241m=\u001B[39m data\u001B[38;5;241m.\u001B[39m_constructor_sliced(data[values]\u001B[38;5;241m.\u001B[39m_values, index\u001B[38;5;241m=\u001B[39mmultiindex)\n\u001B[0;32m--> 520\u001B[0m \u001B[38;5;28;01mreturn\u001B[39;00m \u001B[43mindexed\u001B[49m\u001B[38;5;241;43m.\u001B[39;49m\u001B[43munstack\u001B[49m\u001B[43m(\u001B[49m\u001B[43mcolumns_listlike\u001B[49m\u001B[43m)\u001B[49m\n",
      "File \u001B[0;32m/opt/anaconda3/envs/AppML/lib/python3.8/site-packages/pandas/core/series.py:4157\u001B[0m, in \u001B[0;36mSeries.unstack\u001B[0;34m(self, level, fill_value)\u001B[0m\n\u001B[1;32m   4114\u001B[0m \u001B[38;5;124;03m\"\"\"\u001B[39;00m\n\u001B[1;32m   4115\u001B[0m \u001B[38;5;124;03mUnstack, also known as pivot, Series with MultiIndex to produce DataFrame.\u001B[39;00m\n\u001B[1;32m   4116\u001B[0m \n\u001B[0;32m   (...)\u001B[0m\n\u001B[1;32m   4153\u001B[0m \u001B[38;5;124;03mb    2    4\u001B[39;00m\n\u001B[1;32m   4154\u001B[0m \u001B[38;5;124;03m\"\"\"\u001B[39;00m\n\u001B[1;32m   4155\u001B[0m \u001B[38;5;28;01mfrom\u001B[39;00m \u001B[38;5;21;01mpandas\u001B[39;00m\u001B[38;5;21;01m.\u001B[39;00m\u001B[38;5;21;01mcore\u001B[39;00m\u001B[38;5;21;01m.\u001B[39;00m\u001B[38;5;21;01mreshape\u001B[39;00m\u001B[38;5;21;01m.\u001B[39;00m\u001B[38;5;21;01mreshape\u001B[39;00m \u001B[38;5;28;01mimport\u001B[39;00m unstack\n\u001B[0;32m-> 4157\u001B[0m \u001B[38;5;28;01mreturn\u001B[39;00m \u001B[43munstack\u001B[49m\u001B[43m(\u001B[49m\u001B[38;5;28;43mself\u001B[39;49m\u001B[43m,\u001B[49m\u001B[43m \u001B[49m\u001B[43mlevel\u001B[49m\u001B[43m,\u001B[49m\u001B[43m \u001B[49m\u001B[43mfill_value\u001B[49m\u001B[43m)\u001B[49m\n",
      "File \u001B[0;32m/opt/anaconda3/envs/AppML/lib/python3.8/site-packages/pandas/core/reshape/reshape.py:491\u001B[0m, in \u001B[0;36munstack\u001B[0;34m(obj, level, fill_value)\u001B[0m\n\u001B[1;32m    489\u001B[0m \u001B[38;5;28;01mif\u001B[39;00m is_1d_only_ea_dtype(obj\u001B[38;5;241m.\u001B[39mdtype):\n\u001B[1;32m    490\u001B[0m     \u001B[38;5;28;01mreturn\u001B[39;00m _unstack_extension_series(obj, level, fill_value)\n\u001B[0;32m--> 491\u001B[0m unstacker \u001B[38;5;241m=\u001B[39m \u001B[43m_Unstacker\u001B[49m\u001B[43m(\u001B[49m\n\u001B[1;32m    492\u001B[0m \u001B[43m    \u001B[49m\u001B[43mobj\u001B[49m\u001B[38;5;241;43m.\u001B[39;49m\u001B[43mindex\u001B[49m\u001B[43m,\u001B[49m\u001B[43m \u001B[49m\u001B[43mlevel\u001B[49m\u001B[38;5;241;43m=\u001B[39;49m\u001B[43mlevel\u001B[49m\u001B[43m,\u001B[49m\u001B[43m \u001B[49m\u001B[43mconstructor\u001B[49m\u001B[38;5;241;43m=\u001B[39;49m\u001B[43mobj\u001B[49m\u001B[38;5;241;43m.\u001B[39;49m\u001B[43m_constructor_expanddim\u001B[49m\n\u001B[1;32m    493\u001B[0m \u001B[43m\u001B[49m\u001B[43m)\u001B[49m\n\u001B[1;32m    494\u001B[0m \u001B[38;5;28;01mreturn\u001B[39;00m unstacker\u001B[38;5;241m.\u001B[39mget_result(\n\u001B[1;32m    495\u001B[0m     obj\u001B[38;5;241m.\u001B[39m_values, value_columns\u001B[38;5;241m=\u001B[39m\u001B[38;5;28;01mNone\u001B[39;00m, fill_value\u001B[38;5;241m=\u001B[39mfill_value\n\u001B[1;32m    496\u001B[0m )\n",
      "File \u001B[0;32m/opt/anaconda3/envs/AppML/lib/python3.8/site-packages/pandas/core/reshape/reshape.py:140\u001B[0m, in \u001B[0;36m_Unstacker.__init__\u001B[0;34m(self, index, level, constructor)\u001B[0m\n\u001B[1;32m    133\u001B[0m \u001B[38;5;28;01mif\u001B[39;00m num_cells \u001B[38;5;241m>\u001B[39m np\u001B[38;5;241m.\u001B[39miinfo(np\u001B[38;5;241m.\u001B[39mint32)\u001B[38;5;241m.\u001B[39mmax:\n\u001B[1;32m    134\u001B[0m     warnings\u001B[38;5;241m.\u001B[39mwarn(\n\u001B[1;32m    135\u001B[0m         \u001B[38;5;124mf\u001B[39m\u001B[38;5;124m\"\u001B[39m\u001B[38;5;124mThe following operation may generate \u001B[39m\u001B[38;5;132;01m{\u001B[39;00mnum_cells\u001B[38;5;132;01m}\u001B[39;00m\u001B[38;5;124m cells \u001B[39m\u001B[38;5;124m\"\u001B[39m\n\u001B[1;32m    136\u001B[0m         \u001B[38;5;124mf\u001B[39m\u001B[38;5;124m\"\u001B[39m\u001B[38;5;124min the resulting pandas object.\u001B[39m\u001B[38;5;124m\"\u001B[39m,\n\u001B[1;32m    137\u001B[0m         PerformanceWarning,\n\u001B[1;32m    138\u001B[0m     )\n\u001B[0;32m--> 140\u001B[0m \u001B[38;5;28;43mself\u001B[39;49m\u001B[38;5;241;43m.\u001B[39;49m\u001B[43m_make_selectors\u001B[49m\u001B[43m(\u001B[49m\u001B[43m)\u001B[49m\n",
      "File \u001B[0;32m/opt/anaconda3/envs/AppML/lib/python3.8/site-packages/pandas/core/reshape/reshape.py:192\u001B[0m, in \u001B[0;36m_Unstacker._make_selectors\u001B[0;34m(self)\u001B[0m\n\u001B[1;32m    189\u001B[0m mask\u001B[38;5;241m.\u001B[39mput(selector, \u001B[38;5;28;01mTrue\u001B[39;00m)\n\u001B[1;32m    191\u001B[0m \u001B[38;5;28;01mif\u001B[39;00m mask\u001B[38;5;241m.\u001B[39msum() \u001B[38;5;241m<\u001B[39m \u001B[38;5;28mlen\u001B[39m(\u001B[38;5;28mself\u001B[39m\u001B[38;5;241m.\u001B[39mindex):\n\u001B[0;32m--> 192\u001B[0m     \u001B[38;5;28;01mraise\u001B[39;00m \u001B[38;5;167;01mValueError\u001B[39;00m(\u001B[38;5;124m\"\u001B[39m\u001B[38;5;124mIndex contains duplicate entries, cannot reshape\u001B[39m\u001B[38;5;124m\"\u001B[39m)\n\u001B[1;32m    194\u001B[0m \u001B[38;5;28mself\u001B[39m\u001B[38;5;241m.\u001B[39mgroup_index \u001B[38;5;241m=\u001B[39m comp_index\n\u001B[1;32m    195\u001B[0m \u001B[38;5;28mself\u001B[39m\u001B[38;5;241m.\u001B[39mmask \u001B[38;5;241m=\u001B[39m mask\n",
      "\u001B[0;31mValueError\u001B[0m: Index contains duplicate entries, cannot reshape"
     ]
    }
   ],
   "source": [
    "df_day.pivot(index=[\"to\"],columns=\"parameterId\", values=\"value\")"
   ],
   "metadata": {
    "collapsed": false,
    "pycharm": {
     "name": "#%%\n"
    }
   }
  },
  {
   "cell_type": "code",
   "execution_count": null,
   "outputs": [],
   "source": [
    "df_month.pivot(index=[\"to\",\"coordinates\"],columns=\"parameterId\", values=\"value\")"
   ],
   "metadata": {
    "collapsed": false,
    "pycharm": {
     "name": "#%%\n"
    }
   }
  },
  {
   "cell_type": "code",
   "execution_count": null,
   "outputs": [],
   "source": [
    "df_year.pivot(index=[\"to\",\"coordinates\"],columns=\"parameterId\", values=\"value\")"
   ],
   "metadata": {
    "collapsed": false,
    "pycharm": {
     "name": "#%%\n"
    }
   }
  },
  {
   "cell_type": "code",
   "execution_count": 4,
   "outputs": [],
   "source": [
    "import lightgbm as lgb"
   ],
   "metadata": {
    "collapsed": false,
    "pycharm": {
     "name": "#%%\n"
    }
   }
  },
  {
   "cell_type": "code",
   "execution_count": null,
   "outputs": [],
   "source": [],
   "metadata": {
    "collapsed": false,
    "pycharm": {
     "name": "#%%\n"
    }
   }
  }
 ],
 "metadata": {
  "kernelspec": {
   "display_name": "Python 3",
   "language": "python",
   "name": "python3"
  },
  "language_info": {
   "codemirror_mode": {
    "name": "ipython",
    "version": 2
   },
   "file_extension": ".py",
   "mimetype": "text/x-python",
   "name": "python",
   "nbconvert_exporter": "python",
   "pygments_lexer": "ipython2",
   "version": "2.7.6"
  }
 },
 "nbformat": 4,
 "nbformat_minor": 0
}