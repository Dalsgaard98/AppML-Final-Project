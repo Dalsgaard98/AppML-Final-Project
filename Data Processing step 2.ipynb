{
 "cells": [
  {
   "cell_type": "code",
   "execution_count": 1,
   "metadata": {
    "collapsed": true
   },
   "outputs": [],
   "source": [
    "import numpy as np\n",
    "\n",
    "import pandas as pd"
   ]
  },
  {
   "cell_type": "code",
   "execution_count": 8,
   "outputs": [],
   "source": [
    "df = pd.read_csv(\"country_all.csv\")"
   ],
   "metadata": {
    "collapsed": false,
    "pycharm": {
     "name": "#%%\n"
    }
   }
  },
  {
   "cell_type": "code",
   "execution_count": 9,
   "outputs": [
    {
     "data": {
      "text/plain": "   Unnamed: 0 geometry_type         coordinates                calculatedAt  \\\n0           0         Point  [11.7644, 55.9594]  2018-11-21T11:55:28.157000   \n1           1         Point  [11.7644, 55.9594]  2016-11-17T15:43:15.559000   \n2           2         Point  [11.7644, 55.9594]  2016-11-17T14:55:15.433000   \n3           3         Point  [11.7644, 55.9594]  2018-01-04T12:08:57.949000   \n4           4         Point  [11.7644, 55.9594]  2016-11-17T15:57:27.574000   \n\n                            created                              from  \\\n0  2021-10-25T09:22:38.182857+00:00  2014-12-09T00:00:00.001000+01:00   \n1  2021-10-25T09:22:38.168998+00:00         2014-12-08T23:00:00+00:00   \n2  2021-10-25T09:22:38.156281+00:00         2014-12-08T23:00:00+00:00   \n3  2021-10-25T09:22:38.172761+00:00  2014-12-09T00:00:00.001000+01:00   \n4  2021-10-25T09:22:38.171461+00:00  2014-12-09T00:00:00.001000+01:00   \n\n                          to     parameterId qcStatus timeResolution   value  \\\n0  2014-12-10T00:00:00+01:00  no_summer_days   manual            day     0.0   \n1  2014-12-09T00:00:00+00:00    temp_soil_30     none           hour     4.9   \n2  2014-12-09T00:00:00+00:00      temp_grass     none           hour     0.1   \n3  2014-12-10T00:00:00+01:00      acc_precip   manual            day     0.7   \n4  2014-12-10T00:00:00+01:00   mean_pressure   manual            day  1018.9   \n\n      type                                    ID  \n0  Feature  2027729c-c353-71eb-cb26-66dd48ec6fae  \n1  Feature  37dad45e-41a9-b3f6-4ace-58e609ffa49e  \n2  Feature  395c0cb3-61b2-82c8-3f7e-e460dbacda92  \n3  Feature  451b54c8-4e88-9d60-660c-394dee202857  \n4  Feature  4cf4c8da-3c91-1a1b-1dd1-0f7c40471da2  ",
      "text/html": "<div>\n<style scoped>\n    .dataframe tbody tr th:only-of-type {\n        vertical-align: middle;\n    }\n\n    .dataframe tbody tr th {\n        vertical-align: top;\n    }\n\n    .dataframe thead th {\n        text-align: right;\n    }\n</style>\n<table border=\"1\" class=\"dataframe\">\n  <thead>\n    <tr style=\"text-align: right;\">\n      <th></th>\n      <th>Unnamed: 0</th>\n      <th>geometry_type</th>\n      <th>coordinates</th>\n      <th>calculatedAt</th>\n      <th>created</th>\n      <th>from</th>\n      <th>to</th>\n      <th>parameterId</th>\n      <th>qcStatus</th>\n      <th>timeResolution</th>\n      <th>value</th>\n      <th>type</th>\n      <th>ID</th>\n    </tr>\n  </thead>\n  <tbody>\n    <tr>\n      <th>0</th>\n      <td>0</td>\n      <td>Point</td>\n      <td>[11.7644, 55.9594]</td>\n      <td>2018-11-21T11:55:28.157000</td>\n      <td>2021-10-25T09:22:38.182857+00:00</td>\n      <td>2014-12-09T00:00:00.001000+01:00</td>\n      <td>2014-12-10T00:00:00+01:00</td>\n      <td>no_summer_days</td>\n      <td>manual</td>\n      <td>day</td>\n      <td>0.0</td>\n      <td>Feature</td>\n      <td>2027729c-c353-71eb-cb26-66dd48ec6fae</td>\n    </tr>\n    <tr>\n      <th>1</th>\n      <td>1</td>\n      <td>Point</td>\n      <td>[11.7644, 55.9594]</td>\n      <td>2016-11-17T15:43:15.559000</td>\n      <td>2021-10-25T09:22:38.168998+00:00</td>\n      <td>2014-12-08T23:00:00+00:00</td>\n      <td>2014-12-09T00:00:00+00:00</td>\n      <td>temp_soil_30</td>\n      <td>none</td>\n      <td>hour</td>\n      <td>4.9</td>\n      <td>Feature</td>\n      <td>37dad45e-41a9-b3f6-4ace-58e609ffa49e</td>\n    </tr>\n    <tr>\n      <th>2</th>\n      <td>2</td>\n      <td>Point</td>\n      <td>[11.7644, 55.9594]</td>\n      <td>2016-11-17T14:55:15.433000</td>\n      <td>2021-10-25T09:22:38.156281+00:00</td>\n      <td>2014-12-08T23:00:00+00:00</td>\n      <td>2014-12-09T00:00:00+00:00</td>\n      <td>temp_grass</td>\n      <td>none</td>\n      <td>hour</td>\n      <td>0.1</td>\n      <td>Feature</td>\n      <td>395c0cb3-61b2-82c8-3f7e-e460dbacda92</td>\n    </tr>\n    <tr>\n      <th>3</th>\n      <td>3</td>\n      <td>Point</td>\n      <td>[11.7644, 55.9594]</td>\n      <td>2018-01-04T12:08:57.949000</td>\n      <td>2021-10-25T09:22:38.172761+00:00</td>\n      <td>2014-12-09T00:00:00.001000+01:00</td>\n      <td>2014-12-10T00:00:00+01:00</td>\n      <td>acc_precip</td>\n      <td>manual</td>\n      <td>day</td>\n      <td>0.7</td>\n      <td>Feature</td>\n      <td>451b54c8-4e88-9d60-660c-394dee202857</td>\n    </tr>\n    <tr>\n      <th>4</th>\n      <td>4</td>\n      <td>Point</td>\n      <td>[11.7644, 55.9594]</td>\n      <td>2016-11-17T15:57:27.574000</td>\n      <td>2021-10-25T09:22:38.171461+00:00</td>\n      <td>2014-12-09T00:00:00.001000+01:00</td>\n      <td>2014-12-10T00:00:00+01:00</td>\n      <td>mean_pressure</td>\n      <td>manual</td>\n      <td>day</td>\n      <td>1018.9</td>\n      <td>Feature</td>\n      <td>4cf4c8da-3c91-1a1b-1dd1-0f7c40471da2</td>\n    </tr>\n  </tbody>\n</table>\n</div>"
     },
     "execution_count": 9,
     "metadata": {},
     "output_type": "execute_result"
    }
   ],
   "source": [
    "df.head()"
   ],
   "metadata": {
    "collapsed": false,
    "pycharm": {
     "name": "#%%\n"
    }
   }
  },
  {
   "cell_type": "code",
   "execution_count": 10,
   "outputs": [],
   "source": [
    "df.drop(\"Unnamed: 0\",axis=1,inplace=True)\n",
    "df.drop(\"geometry_type\",axis=1,inplace=True)\n",
    "df.drop(\"coordinates\",axis=1,inplace=True)\n",
    "df.drop(\"calculatedAt\",axis=1,inplace=True)\n",
    "df.drop(\"created\",axis=1,inplace=True)\n",
    "df.drop(\"from\",axis=1,inplace=True)\n",
    "df.drop(\"ID\",axis=1,inplace=True)\n",
    "df.drop(\"type\",axis=1,inplace=True)"
   ],
   "metadata": {
    "collapsed": false,
    "pycharm": {
     "name": "#%%\n"
    }
   }
  },
  {
   "cell_type": "code",
   "execution_count": 12,
   "outputs": [],
   "source": [
    "df.sort_values(by=\"to\",inplace=True)"
   ],
   "metadata": {
    "collapsed": false,
    "pycharm": {
     "name": "#%%\n"
    }
   }
  },
  {
   "cell_type": "code",
   "execution_count": 13,
   "outputs": [
    {
     "data": {
      "text/plain": "                               to          parameterId qcStatus  \\\n967388  2011-01-01T00:00:00+00:00  max_wind_speed_3sec   manual   \n967449  2011-01-01T00:00:00+00:00             min_temp   manual   \n967446  2011-01-01T00:00:00+00:00      bright_sunshine   manual   \n967442  2011-01-01T00:00:00+00:00        mean_wind_dir   manual   \n967457  2011-01-01T00:00:00+00:00           acc_precip   manual   \n\n       timeResolution  value  \n967388           hour   27.4  \n967449           hour    1.4  \n967446           hour    0.0  \n967442           hour  269.0  \n967457           hour    0.2  ",
      "text/html": "<div>\n<style scoped>\n    .dataframe tbody tr th:only-of-type {\n        vertical-align: middle;\n    }\n\n    .dataframe tbody tr th {\n        vertical-align: top;\n    }\n\n    .dataframe thead th {\n        text-align: right;\n    }\n</style>\n<table border=\"1\" class=\"dataframe\">\n  <thead>\n    <tr style=\"text-align: right;\">\n      <th></th>\n      <th>to</th>\n      <th>parameterId</th>\n      <th>qcStatus</th>\n      <th>timeResolution</th>\n      <th>value</th>\n    </tr>\n  </thead>\n  <tbody>\n    <tr>\n      <th>967388</th>\n      <td>2011-01-01T00:00:00+00:00</td>\n      <td>max_wind_speed_3sec</td>\n      <td>manual</td>\n      <td>hour</td>\n      <td>27.4</td>\n    </tr>\n    <tr>\n      <th>967449</th>\n      <td>2011-01-01T00:00:00+00:00</td>\n      <td>min_temp</td>\n      <td>manual</td>\n      <td>hour</td>\n      <td>1.4</td>\n    </tr>\n    <tr>\n      <th>967446</th>\n      <td>2011-01-01T00:00:00+00:00</td>\n      <td>bright_sunshine</td>\n      <td>manual</td>\n      <td>hour</td>\n      <td>0.0</td>\n    </tr>\n    <tr>\n      <th>967442</th>\n      <td>2011-01-01T00:00:00+00:00</td>\n      <td>mean_wind_dir</td>\n      <td>manual</td>\n      <td>hour</td>\n      <td>269.0</td>\n    </tr>\n    <tr>\n      <th>967457</th>\n      <td>2011-01-01T00:00:00+00:00</td>\n      <td>acc_precip</td>\n      <td>manual</td>\n      <td>hour</td>\n      <td>0.2</td>\n    </tr>\n  </tbody>\n</table>\n</div>"
     },
     "execution_count": 13,
     "metadata": {},
     "output_type": "execute_result"
    }
   ],
   "source": [
    "df.head()"
   ],
   "metadata": {
    "collapsed": false,
    "pycharm": {
     "name": "#%%\n"
    }
   }
  },
  {
   "cell_type": "code",
   "execution_count": 14,
   "outputs": [
    {
     "data": {
      "text/plain": "                                to         parameterId qcStatus  \\\n382986   2023-01-01T00:00:00+01:00     mean_wind_speed     none   \n382987   2023-01-01T00:00:00+01:00  no_tropical_nights     none   \n382991   2023-01-01T00:00:00+01:00         no_ice_days     none   \n382996   2023-01-01T00:00:00+01:00            min_temp     none   \n1007131  2023-01-01T06:00:00+00:00          snow_depth     none   \n\n        timeResolution  value  \n382986            year    5.1  \n382987            year    0.0  \n382991            year    0.0  \n382996            year   -8.7  \n1007131           year   12.0  ",
      "text/html": "<div>\n<style scoped>\n    .dataframe tbody tr th:only-of-type {\n        vertical-align: middle;\n    }\n\n    .dataframe tbody tr th {\n        vertical-align: top;\n    }\n\n    .dataframe thead th {\n        text-align: right;\n    }\n</style>\n<table border=\"1\" class=\"dataframe\">\n  <thead>\n    <tr style=\"text-align: right;\">\n      <th></th>\n      <th>to</th>\n      <th>parameterId</th>\n      <th>qcStatus</th>\n      <th>timeResolution</th>\n      <th>value</th>\n    </tr>\n  </thead>\n  <tbody>\n    <tr>\n      <th>382986</th>\n      <td>2023-01-01T00:00:00+01:00</td>\n      <td>mean_wind_speed</td>\n      <td>none</td>\n      <td>year</td>\n      <td>5.1</td>\n    </tr>\n    <tr>\n      <th>382987</th>\n      <td>2023-01-01T00:00:00+01:00</td>\n      <td>no_tropical_nights</td>\n      <td>none</td>\n      <td>year</td>\n      <td>0.0</td>\n    </tr>\n    <tr>\n      <th>382991</th>\n      <td>2023-01-01T00:00:00+01:00</td>\n      <td>no_ice_days</td>\n      <td>none</td>\n      <td>year</td>\n      <td>0.0</td>\n    </tr>\n    <tr>\n      <th>382996</th>\n      <td>2023-01-01T00:00:00+01:00</td>\n      <td>min_temp</td>\n      <td>none</td>\n      <td>year</td>\n      <td>-8.7</td>\n    </tr>\n    <tr>\n      <th>1007131</th>\n      <td>2023-01-01T06:00:00+00:00</td>\n      <td>snow_depth</td>\n      <td>none</td>\n      <td>year</td>\n      <td>12.0</td>\n    </tr>\n  </tbody>\n</table>\n</div>"
     },
     "execution_count": 14,
     "metadata": {},
     "output_type": "execute_result"
    }
   ],
   "source": [
    "df.tail()"
   ],
   "metadata": {
    "collapsed": false,
    "pycharm": {
     "name": "#%%\n"
    }
   }
  },
  {
   "cell_type": "code",
   "execution_count": 15,
   "outputs": [],
   "source": [
    "df.to_csv(\"Countries_processed.csv\")"
   ],
   "metadata": {
    "collapsed": false,
    "pycharm": {
     "name": "#%%\n"
    }
   }
  },
  {
   "cell_type": "code",
   "execution_count": null,
   "outputs": [],
   "source": [],
   "metadata": {
    "collapsed": false,
    "pycharm": {
     "name": "#%%\n"
    }
   }
  }
 ],
 "metadata": {
  "kernelspec": {
   "display_name": "Python 3",
   "language": "python",
   "name": "python3"
  },
  "language_info": {
   "codemirror_mode": {
    "name": "ipython",
    "version": 2
   },
   "file_extension": ".py",
   "mimetype": "text/x-python",
   "name": "python",
   "nbconvert_exporter": "python",
   "pygments_lexer": "ipython2",
   "version": "2.7.6"
  }
 },
 "nbformat": 4,
 "nbformat_minor": 0
}