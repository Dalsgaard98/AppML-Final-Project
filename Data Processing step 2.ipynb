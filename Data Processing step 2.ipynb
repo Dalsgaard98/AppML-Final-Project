{
 "cells": [
  {
   "cell_type": "code",
   "execution_count": 1,
   "metadata": {
    "collapsed": true
   },
   "outputs": [],
   "source": [
    "import numpy as np\n",
    "\n",
    "import pandas as pd"
   ]
  },
  {
   "cell_type": "code",
   "execution_count": 17,
   "outputs": [],
   "source": [
    "df = pd.read_csv(\"country_all.csv\")"
   ],
   "metadata": {
    "collapsed": false,
    "pycharm": {
     "name": "#%%\n"
    }
   }
  },
  {
   "cell_type": "code",
   "execution_count": 18,
   "outputs": [
    {
     "data": {
      "text/plain": "   Unnamed: 0 geometry_type         coordinates                calculatedAt  \\\n0           0         Point  [11.7644, 55.9594]  2018-11-21T11:55:28.157000   \n1           1         Point  [11.7644, 55.9594]  2016-11-17T15:43:15.559000   \n2           2         Point  [11.7644, 55.9594]  2016-11-17T14:55:15.433000   \n3           3         Point  [11.7644, 55.9594]  2018-01-04T12:08:57.949000   \n4           4         Point  [11.7644, 55.9594]  2016-11-17T15:57:27.574000   \n\n                            created                              from  \\\n0  2021-10-25T09:22:38.182857+00:00  2014-12-09T00:00:00.001000+01:00   \n1  2021-10-25T09:22:38.168998+00:00         2014-12-08T23:00:00+00:00   \n2  2021-10-25T09:22:38.156281+00:00         2014-12-08T23:00:00+00:00   \n3  2021-10-25T09:22:38.172761+00:00  2014-12-09T00:00:00.001000+01:00   \n4  2021-10-25T09:22:38.171461+00:00  2014-12-09T00:00:00.001000+01:00   \n\n                          to     parameterId qcStatus timeResolution   value  \\\n0  2014-12-10T00:00:00+01:00  no_summer_days   manual            day     0.0   \n1  2014-12-09T00:00:00+00:00    temp_soil_30     none           hour     4.9   \n2  2014-12-09T00:00:00+00:00      temp_grass     none           hour     0.1   \n3  2014-12-10T00:00:00+01:00      acc_precip   manual            day     0.7   \n4  2014-12-10T00:00:00+01:00   mean_pressure   manual            day  1018.9   \n\n      type                                    ID  \n0  Feature  2027729c-c353-71eb-cb26-66dd48ec6fae  \n1  Feature  37dad45e-41a9-b3f6-4ace-58e609ffa49e  \n2  Feature  395c0cb3-61b2-82c8-3f7e-e460dbacda92  \n3  Feature  451b54c8-4e88-9d60-660c-394dee202857  \n4  Feature  4cf4c8da-3c91-1a1b-1dd1-0f7c40471da2  ",
      "text/html": "<div>\n<style scoped>\n    .dataframe tbody tr th:only-of-type {\n        vertical-align: middle;\n    }\n\n    .dataframe tbody tr th {\n        vertical-align: top;\n    }\n\n    .dataframe thead th {\n        text-align: right;\n    }\n</style>\n<table border=\"1\" class=\"dataframe\">\n  <thead>\n    <tr style=\"text-align: right;\">\n      <th></th>\n      <th>Unnamed: 0</th>\n      <th>geometry_type</th>\n      <th>coordinates</th>\n      <th>calculatedAt</th>\n      <th>created</th>\n      <th>from</th>\n      <th>to</th>\n      <th>parameterId</th>\n      <th>qcStatus</th>\n      <th>timeResolution</th>\n      <th>value</th>\n      <th>type</th>\n      <th>ID</th>\n    </tr>\n  </thead>\n  <tbody>\n    <tr>\n      <th>0</th>\n      <td>0</td>\n      <td>Point</td>\n      <td>[11.7644, 55.9594]</td>\n      <td>2018-11-21T11:55:28.157000</td>\n      <td>2021-10-25T09:22:38.182857+00:00</td>\n      <td>2014-12-09T00:00:00.001000+01:00</td>\n      <td>2014-12-10T00:00:00+01:00</td>\n      <td>no_summer_days</td>\n      <td>manual</td>\n      <td>day</td>\n      <td>0.0</td>\n      <td>Feature</td>\n      <td>2027729c-c353-71eb-cb26-66dd48ec6fae</td>\n    </tr>\n    <tr>\n      <th>1</th>\n      <td>1</td>\n      <td>Point</td>\n      <td>[11.7644, 55.9594]</td>\n      <td>2016-11-17T15:43:15.559000</td>\n      <td>2021-10-25T09:22:38.168998+00:00</td>\n      <td>2014-12-08T23:00:00+00:00</td>\n      <td>2014-12-09T00:00:00+00:00</td>\n      <td>temp_soil_30</td>\n      <td>none</td>\n      <td>hour</td>\n      <td>4.9</td>\n      <td>Feature</td>\n      <td>37dad45e-41a9-b3f6-4ace-58e609ffa49e</td>\n    </tr>\n    <tr>\n      <th>2</th>\n      <td>2</td>\n      <td>Point</td>\n      <td>[11.7644, 55.9594]</td>\n      <td>2016-11-17T14:55:15.433000</td>\n      <td>2021-10-25T09:22:38.156281+00:00</td>\n      <td>2014-12-08T23:00:00+00:00</td>\n      <td>2014-12-09T00:00:00+00:00</td>\n      <td>temp_grass</td>\n      <td>none</td>\n      <td>hour</td>\n      <td>0.1</td>\n      <td>Feature</td>\n      <td>395c0cb3-61b2-82c8-3f7e-e460dbacda92</td>\n    </tr>\n    <tr>\n      <th>3</th>\n      <td>3</td>\n      <td>Point</td>\n      <td>[11.7644, 55.9594]</td>\n      <td>2018-01-04T12:08:57.949000</td>\n      <td>2021-10-25T09:22:38.172761+00:00</td>\n      <td>2014-12-09T00:00:00.001000+01:00</td>\n      <td>2014-12-10T00:00:00+01:00</td>\n      <td>acc_precip</td>\n      <td>manual</td>\n      <td>day</td>\n      <td>0.7</td>\n      <td>Feature</td>\n      <td>451b54c8-4e88-9d60-660c-394dee202857</td>\n    </tr>\n    <tr>\n      <th>4</th>\n      <td>4</td>\n      <td>Point</td>\n      <td>[11.7644, 55.9594]</td>\n      <td>2016-11-17T15:57:27.574000</td>\n      <td>2021-10-25T09:22:38.171461+00:00</td>\n      <td>2014-12-09T00:00:00.001000+01:00</td>\n      <td>2014-12-10T00:00:00+01:00</td>\n      <td>mean_pressure</td>\n      <td>manual</td>\n      <td>day</td>\n      <td>1018.9</td>\n      <td>Feature</td>\n      <td>4cf4c8da-3c91-1a1b-1dd1-0f7c40471da2</td>\n    </tr>\n  </tbody>\n</table>\n</div>"
     },
     "execution_count": 18,
     "metadata": {},
     "output_type": "execute_result"
    }
   ],
   "source": [
    "df.head()"
   ],
   "metadata": {
    "collapsed": false,
    "pycharm": {
     "name": "#%%\n"
    }
   }
  },
  {
   "cell_type": "code",
   "execution_count": 19,
   "outputs": [],
   "source": [
    "df.drop(\"Unnamed: 0\",axis=1,inplace=True)\n",
    "df.drop(\"geometry_type\",axis=1,inplace=True)\n",
    "df.drop(\"coordinates\",axis=1,inplace=True)\n",
    "df.drop(\"calculatedAt\",axis=1,inplace=True)\n",
    "df.drop(\"created\",axis=1,inplace=True)\n",
    "df.drop(\"from\",axis=1,inplace=True)\n",
    "df.drop(\"ID\",axis=1,inplace=True)\n",
    "df.drop(\"type\",axis=1,inplace=True)\n",
    "df.drop(\"qcStatus\",axis=1,inplace=True)"
   ],
   "metadata": {
    "collapsed": false,
    "pycharm": {
     "name": "#%%\n"
    }
   }
  },
  {
   "cell_type": "code",
   "execution_count": 20,
   "outputs": [],
   "source": [
    "df.sort_values(by=\"to\",inplace=True)"
   ],
   "metadata": {
    "collapsed": false,
    "pycharm": {
     "name": "#%%\n"
    }
   }
  },
  {
   "cell_type": "code",
   "execution_count": 21,
   "outputs": [
    {
     "data": {
      "text/plain": "                               to          parameterId timeResolution  value\n967388  2011-01-01T00:00:00+00:00  max_wind_speed_3sec           hour   27.4\n967449  2011-01-01T00:00:00+00:00             min_temp           hour    1.4\n967446  2011-01-01T00:00:00+00:00      bright_sunshine           hour    0.0\n967442  2011-01-01T00:00:00+00:00        mean_wind_dir           hour  269.0\n967457  2011-01-01T00:00:00+00:00           acc_precip           hour    0.2",
      "text/html": "<div>\n<style scoped>\n    .dataframe tbody tr th:only-of-type {\n        vertical-align: middle;\n    }\n\n    .dataframe tbody tr th {\n        vertical-align: top;\n    }\n\n    .dataframe thead th {\n        text-align: right;\n    }\n</style>\n<table border=\"1\" class=\"dataframe\">\n  <thead>\n    <tr style=\"text-align: right;\">\n      <th></th>\n      <th>to</th>\n      <th>parameterId</th>\n      <th>timeResolution</th>\n      <th>value</th>\n    </tr>\n  </thead>\n  <tbody>\n    <tr>\n      <th>967388</th>\n      <td>2011-01-01T00:00:00+00:00</td>\n      <td>max_wind_speed_3sec</td>\n      <td>hour</td>\n      <td>27.4</td>\n    </tr>\n    <tr>\n      <th>967449</th>\n      <td>2011-01-01T00:00:00+00:00</td>\n      <td>min_temp</td>\n      <td>hour</td>\n      <td>1.4</td>\n    </tr>\n    <tr>\n      <th>967446</th>\n      <td>2011-01-01T00:00:00+00:00</td>\n      <td>bright_sunshine</td>\n      <td>hour</td>\n      <td>0.0</td>\n    </tr>\n    <tr>\n      <th>967442</th>\n      <td>2011-01-01T00:00:00+00:00</td>\n      <td>mean_wind_dir</td>\n      <td>hour</td>\n      <td>269.0</td>\n    </tr>\n    <tr>\n      <th>967457</th>\n      <td>2011-01-01T00:00:00+00:00</td>\n      <td>acc_precip</td>\n      <td>hour</td>\n      <td>0.2</td>\n    </tr>\n  </tbody>\n</table>\n</div>"
     },
     "execution_count": 21,
     "metadata": {},
     "output_type": "execute_result"
    }
   ],
   "source": [
    "df.head()"
   ],
   "metadata": {
    "collapsed": false,
    "pycharm": {
     "name": "#%%\n"
    }
   }
  },
  {
   "cell_type": "code",
   "execution_count": 22,
   "outputs": [
    {
     "data": {
      "text/plain": "                                to         parameterId timeResolution  value\n382986   2023-01-01T00:00:00+01:00     mean_wind_speed           year    5.1\n382987   2023-01-01T00:00:00+01:00  no_tropical_nights           year    0.0\n382991   2023-01-01T00:00:00+01:00         no_ice_days           year    0.0\n382996   2023-01-01T00:00:00+01:00            min_temp           year   -8.7\n1007131  2023-01-01T06:00:00+00:00          snow_depth           year   12.0",
      "text/html": "<div>\n<style scoped>\n    .dataframe tbody tr th:only-of-type {\n        vertical-align: middle;\n    }\n\n    .dataframe tbody tr th {\n        vertical-align: top;\n    }\n\n    .dataframe thead th {\n        text-align: right;\n    }\n</style>\n<table border=\"1\" class=\"dataframe\">\n  <thead>\n    <tr style=\"text-align: right;\">\n      <th></th>\n      <th>to</th>\n      <th>parameterId</th>\n      <th>timeResolution</th>\n      <th>value</th>\n    </tr>\n  </thead>\n  <tbody>\n    <tr>\n      <th>382986</th>\n      <td>2023-01-01T00:00:00+01:00</td>\n      <td>mean_wind_speed</td>\n      <td>year</td>\n      <td>5.1</td>\n    </tr>\n    <tr>\n      <th>382987</th>\n      <td>2023-01-01T00:00:00+01:00</td>\n      <td>no_tropical_nights</td>\n      <td>year</td>\n      <td>0.0</td>\n    </tr>\n    <tr>\n      <th>382991</th>\n      <td>2023-01-01T00:00:00+01:00</td>\n      <td>no_ice_days</td>\n      <td>year</td>\n      <td>0.0</td>\n    </tr>\n    <tr>\n      <th>382996</th>\n      <td>2023-01-01T00:00:00+01:00</td>\n      <td>min_temp</td>\n      <td>year</td>\n      <td>-8.7</td>\n    </tr>\n    <tr>\n      <th>1007131</th>\n      <td>2023-01-01T06:00:00+00:00</td>\n      <td>snow_depth</td>\n      <td>year</td>\n      <td>12.0</td>\n    </tr>\n  </tbody>\n</table>\n</div>"
     },
     "execution_count": 22,
     "metadata": {},
     "output_type": "execute_result"
    }
   ],
   "source": [
    "df.tail()"
   ],
   "metadata": {
    "collapsed": false,
    "pycharm": {
     "name": "#%%\n"
    }
   }
  },
  {
   "cell_type": "code",
   "execution_count": 23,
   "outputs": [],
   "source": [
    "df.to_csv(\"Countries_processed.csv\")"
   ],
   "metadata": {
    "collapsed": false,
    "pycharm": {
     "name": "#%%\n"
    }
   }
  },
  {
   "cell_type": "code",
   "execution_count": 13,
   "outputs": [],
   "source": [
    "df=pd.read_csv(\"Countries_processed.csv\")"
   ],
   "metadata": {
    "collapsed": false,
    "pycharm": {
     "name": "#%%\n"
    }
   }
  },
  {
   "cell_type": "code",
   "execution_count": 15,
   "outputs": [],
   "source": [
    "df.drop(\"Unnamed: 0\",axis=1,inplace=True)"
   ],
   "metadata": {
    "collapsed": false,
    "pycharm": {
     "name": "#%%\n"
    }
   }
  },
  {
   "cell_type": "code",
   "execution_count": 18,
   "outputs": [
    {
     "data": {
      "text/plain": "array(['hour', 'day', 'month', 'year'], dtype=object)"
     },
     "execution_count": 18,
     "metadata": {},
     "output_type": "execute_result"
    }
   ],
   "source": [
    "df.timeResolution.unique()"
   ],
   "metadata": {
    "collapsed": false,
    "pycharm": {
     "name": "#%%\n"
    }
   }
  },
  {
   "cell_type": "code",
   "execution_count": 19,
   "outputs": [
    {
     "data": {
      "text/plain": "                                to          parameterId timeResolution  value\n0        2011-01-01T00:00:00+00:00  max_wind_speed_3sec           hour   27.4\n1        2011-01-01T00:00:00+00:00             min_temp           hour    1.4\n2        2011-01-01T00:00:00+00:00      bright_sunshine           hour    0.0\n3        2011-01-01T00:00:00+00:00        mean_wind_dir           hour  269.0\n4        2011-01-01T00:00:00+00:00           acc_precip           hour    0.2\n...                            ...                  ...            ...    ...\n1672686  2023-01-01T00:00:00+01:00      mean_wind_speed           year    5.1\n1672687  2023-01-01T00:00:00+01:00   no_tropical_nights           year    0.0\n1672688  2023-01-01T00:00:00+01:00          no_ice_days           year    0.0\n1672689  2023-01-01T00:00:00+01:00             min_temp           year   -8.7\n1672690  2023-01-01T06:00:00+00:00           snow_depth           year   12.0\n\n[1672691 rows x 4 columns]",
      "text/html": "<div>\n<style scoped>\n    .dataframe tbody tr th:only-of-type {\n        vertical-align: middle;\n    }\n\n    .dataframe tbody tr th {\n        vertical-align: top;\n    }\n\n    .dataframe thead th {\n        text-align: right;\n    }\n</style>\n<table border=\"1\" class=\"dataframe\">\n  <thead>\n    <tr style=\"text-align: right;\">\n      <th></th>\n      <th>to</th>\n      <th>parameterId</th>\n      <th>timeResolution</th>\n      <th>value</th>\n    </tr>\n  </thead>\n  <tbody>\n    <tr>\n      <th>0</th>\n      <td>2011-01-01T00:00:00+00:00</td>\n      <td>max_wind_speed_3sec</td>\n      <td>hour</td>\n      <td>27.4</td>\n    </tr>\n    <tr>\n      <th>1</th>\n      <td>2011-01-01T00:00:00+00:00</td>\n      <td>min_temp</td>\n      <td>hour</td>\n      <td>1.4</td>\n    </tr>\n    <tr>\n      <th>2</th>\n      <td>2011-01-01T00:00:00+00:00</td>\n      <td>bright_sunshine</td>\n      <td>hour</td>\n      <td>0.0</td>\n    </tr>\n    <tr>\n      <th>3</th>\n      <td>2011-01-01T00:00:00+00:00</td>\n      <td>mean_wind_dir</td>\n      <td>hour</td>\n      <td>269.0</td>\n    </tr>\n    <tr>\n      <th>4</th>\n      <td>2011-01-01T00:00:00+00:00</td>\n      <td>acc_precip</td>\n      <td>hour</td>\n      <td>0.2</td>\n    </tr>\n    <tr>\n      <th>...</th>\n      <td>...</td>\n      <td>...</td>\n      <td>...</td>\n      <td>...</td>\n    </tr>\n    <tr>\n      <th>1672686</th>\n      <td>2023-01-01T00:00:00+01:00</td>\n      <td>mean_wind_speed</td>\n      <td>year</td>\n      <td>5.1</td>\n    </tr>\n    <tr>\n      <th>1672687</th>\n      <td>2023-01-01T00:00:00+01:00</td>\n      <td>no_tropical_nights</td>\n      <td>year</td>\n      <td>0.0</td>\n    </tr>\n    <tr>\n      <th>1672688</th>\n      <td>2023-01-01T00:00:00+01:00</td>\n      <td>no_ice_days</td>\n      <td>year</td>\n      <td>0.0</td>\n    </tr>\n    <tr>\n      <th>1672689</th>\n      <td>2023-01-01T00:00:00+01:00</td>\n      <td>min_temp</td>\n      <td>year</td>\n      <td>-8.7</td>\n    </tr>\n    <tr>\n      <th>1672690</th>\n      <td>2023-01-01T06:00:00+00:00</td>\n      <td>snow_depth</td>\n      <td>year</td>\n      <td>12.0</td>\n    </tr>\n  </tbody>\n</table>\n<p>1672691 rows × 4 columns</p>\n</div>"
     },
     "execution_count": 19,
     "metadata": {},
     "output_type": "execute_result"
    }
   ],
   "source": [
    "df"
   ],
   "metadata": {
    "collapsed": false,
    "pycharm": {
     "name": "#%%\n"
    }
   }
  },
  {
   "cell_type": "code",
   "execution_count": 20,
   "outputs": [],
   "source": [
    "df_hour = df.loc[df[\"timeResolution\"]==\"hour\"]\n",
    "df_day = df.loc[df[\"timeResolution\"]==\"day\"]\n",
    "df_month = df.loc[df[\"timeResolution\"]==\"month\"]\n",
    "df_year = df.loc[df[\"timeResolution\"]==\"year\"]"
   ],
   "metadata": {
    "collapsed": false,
    "pycharm": {
     "name": "#%%\n"
    }
   }
  },
  {
   "cell_type": "code",
   "execution_count": 21,
   "outputs": [
    {
     "data": {
      "text/plain": "array(['max_wind_speed_3sec', 'min_temp', 'bright_sunshine',\n       'mean_wind_dir', 'acc_precip', 'mean_relative_hum',\n       'mean_wind_speed', 'max_wind_speed_10min', 'mean_temp',\n       'max_temp_w_date', 'mean_pressure', 'mean_radiation',\n       'temp_soil_10', 'temp_grass', 'temp_soil_30', 'mean_cloud_cover',\n       'vapour_pressure_deficit_mean', 'leaf_moisture'], dtype=object)"
     },
     "execution_count": 21,
     "metadata": {},
     "output_type": "execute_result"
    }
   ],
   "source": [
    "df_hour.parameterId.unique()"
   ],
   "metadata": {
    "collapsed": false,
    "pycharm": {
     "name": "#%%\n"
    }
   }
  },
  {
   "cell_type": "code",
   "execution_count": 22,
   "outputs": [
    {
     "data": {
      "text/plain": "array(['mean_temp', 'bright_sunshine', 'no_frost_days', 'acc_precip',\n       'no_days_acc_precip_1', 'drought_index', 'no_days_acc_precip_01',\n       'acc_heating_degree_days_17', 'max_wind_speed_3sec',\n       'mean_wind_dir', 'mean_pressure', 'no_summer_days',\n       'mean_wind_speed', 'mean_relative_hum', 'min_temp',\n       'max_temp_w_date', 'pot_evaporation_penman',\n       'no_days_acc_precip_10', 'no_tropical_nights',\n       'corrected_acc_precip', 'max_wind_speed_10min',\n       'mean_daily_max_temp', 'max_precip_30m', 'pot_evaporation_makkink',\n       'no_ice_days', 'snow_depth', 'mean_radiation', 'temp_soil_30',\n       'temp_soil_10', 'temp_grass', 'mean_cloud_cover',\n       'vapour_pressure_deficit_mean', 'leaf_moisture', 'no_cold_days',\n       'mean_daily_min_temp'], dtype=object)"
     },
     "execution_count": 22,
     "metadata": {},
     "output_type": "execute_result"
    }
   ],
   "source": [
    "df_day.parameterId.unique()"
   ],
   "metadata": {
    "collapsed": false,
    "pycharm": {
     "name": "#%%\n"
    }
   }
  },
  {
   "cell_type": "code",
   "execution_count": 23,
   "outputs": [
    {
     "data": {
      "text/plain": "array(['pot_evaporation_penman', 'mean_daily_max_temp', 'no_summer_days',\n       'max_wind_speed_10min', 'max_precip_30m', 'min_temp', 'mean_temp',\n       'max_temp_w_date', 'mean_wind_dir', 'max_wind_speed_3sec',\n       'mean_wind_speed', 'pot_evaporation_makkink', 'no_frost_days',\n       'corrected_acc_precip', 'acc_heating_degree_days_17',\n       'mean_relative_hum', 'bright_sunshine', 'acc_precip',\n       'mean_pressure', 'mean_radiation', 'no_ice_days', 'snow_depth',\n       'drought_index', 'no_days_acc_precip_10', 'no_days_acc_precip_01',\n       'no_days_acc_precip_1', 'temp_soil_10', 'temp_soil_30',\n       'temp_grass', 'leaf_moisture', 'mean_cloud_cover',\n       'mean_daily_min_temp', 'no_tropical_nights',\n       'vapour_pressure_deficit_mean', 'no_cold_days'], dtype=object)"
     },
     "execution_count": 23,
     "metadata": {},
     "output_type": "execute_result"
    }
   ],
   "source": [
    "df_month.parameterId.unique()"
   ],
   "metadata": {
    "collapsed": false,
    "pycharm": {
     "name": "#%%\n"
    }
   }
  },
  {
   "cell_type": "code",
   "execution_count": 24,
   "outputs": [
    {
     "data": {
      "text/plain": "array(['max_wind_speed_10min', 'corrected_acc_precip',\n       'pot_evaporation_penman', 'max_wind_speed_3sec', 'no_frost_days',\n       'no_ice_days', 'mean_wind_speed', 'mean_radiation',\n       'acc_heating_degree_days_17', 'no_summer_days', 'drought_index',\n       'max_temp_w_date', 'bright_sunshine', 'acc_precip',\n       'mean_wind_dir', 'mean_temp', 'min_temp', 'mean_daily_max_temp',\n       'pot_evaporation_makkink', 'mean_pressure', 'mean_relative_hum',\n       'max_precip_30m', 'snow_depth', 'no_days_acc_precip_01',\n       'no_days_acc_precip_10', 'no_days_acc_precip_1', 'temp_soil_10',\n       'temp_grass', 'temp_soil_30', 'leaf_moisture', 'mean_cloud_cover',\n       'vapour_pressure_deficit_mean', 'mean_daily_min_temp',\n       'no_tropical_nights', 'no_cold_days'], dtype=object)"
     },
     "execution_count": 24,
     "metadata": {},
     "output_type": "execute_result"
    }
   ],
   "source": [
    "df_year.parameterId.unique()"
   ],
   "metadata": {
    "collapsed": false,
    "pycharm": {
     "name": "#%%\n"
    }
   }
  },
  {
   "cell_type": "code",
   "execution_count": null,
   "outputs": [],
   "source": [],
   "metadata": {
    "collapsed": false,
    "pycharm": {
     "name": "#%%\n"
    }
   }
  }
 ],
 "metadata": {
  "kernelspec": {
   "display_name": "Python 3",
   "language": "python",
   "name": "python3"
  },
  "language_info": {
   "codemirror_mode": {
    "name": "ipython",
    "version": 2
   },
   "file_extension": ".py",
   "mimetype": "text/x-python",
   "name": "python",
   "nbconvert_exporter": "python",
   "pygments_lexer": "ipython2",
   "version": "2.7.6"
  }
 },
 "nbformat": 4,
 "nbformat_minor": 0
}